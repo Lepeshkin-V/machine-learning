{
  "nbformat": 4,
  "nbformat_minor": 0,
  "metadata": {
    "colab": {
      "name": "2_classification.ipynb",
      "provenance": []
    },
    "kernelspec": {
      "name": "python3",
      "display_name": "Python 3"
    }
  },
  "cells": [
    {
      "cell_type": "code",
      "metadata": {
        "id": "kphn9sGHaDhQ"
      },
      "source": [
        "import pandas as pd\n",
        "from sklearn.model_selection import train_test_split\n",
        "from sklearn.preprocessing import StandardScaler\n",
        "from sklearn.neighbors import KNeighborsClassifier\n",
        "from sklearn.metrics import classification_report, confusion_matrix\n",
        "from sklearn import tree\n",
        "from sklearn.naive_bayes import GaussianNB\n",
        "from sklearn import svm\n",
        "from sklearn.linear_model import LogisticRegression \n",
        "from sklearn.model_selection import GridSearchCV"
      ],
      "execution_count": null,
      "outputs": []
    },
    {
      "cell_type": "code",
      "metadata": {
        "colab": {
          "base_uri": "https://localhost:8080/"
        },
        "id": "ShNDZB_1b9oI",
        "outputId": "598cdb71-f9a6-4041-c72d-9c7b56f6a2a2"
      },
      "source": [
        "abalone = pd.read_csv('../data/abalone_preprocessed.csv', index_col=0)\n",
        "abalone.columns\n"
      ],
      "execution_count": 3,
      "outputs": [
        {
          "output_type": "execute_result",
          "data": {
            "text/plain": [
              "Index(['Female', 'Infant', 'Male', 'Length', 'Diameter', 'Height',\n",
              "       'Whole weight', 'Shucked weight', 'Viscera weight', 'Shell weight',\n",
              "       'Rings'],\n",
              "      dtype='object')"
            ]
          },
          "metadata": {
            "tags": []
          },
          "execution_count": 3
        }
      ]
    },
    {
      "cell_type": "code",
      "metadata": {
        "colab": {
          "base_uri": "https://localhost:8080/",
          "height": 195
        },
        "id": "oeZl-MF9cl19",
        "outputId": "ec06b415-dc3d-4a5a-a284-8e7a14129a6e"
      },
      "source": [
        "abalone.head()"
      ],
      "execution_count": 4,
      "outputs": [
        {
          "output_type": "execute_result",
          "data": {
            "text/html": [
              "<div>\n",
              "<style scoped>\n",
              "    .dataframe tbody tr th:only-of-type {\n",
              "        vertical-align: middle;\n",
              "    }\n",
              "\n",
              "    .dataframe tbody tr th {\n",
              "        vertical-align: top;\n",
              "    }\n",
              "\n",
              "    .dataframe thead th {\n",
              "        text-align: right;\n",
              "    }\n",
              "</style>\n",
              "<table border=\"1\" class=\"dataframe\">\n",
              "  <thead>\n",
              "    <tr style=\"text-align: right;\">\n",
              "      <th></th>\n",
              "      <th>Female</th>\n",
              "      <th>Infant</th>\n",
              "      <th>Male</th>\n",
              "      <th>Length</th>\n",
              "      <th>Diameter</th>\n",
              "      <th>Height</th>\n",
              "      <th>Whole weight</th>\n",
              "      <th>Shucked weight</th>\n",
              "      <th>Viscera weight</th>\n",
              "      <th>Shell weight</th>\n",
              "      <th>Rings</th>\n",
              "    </tr>\n",
              "  </thead>\n",
              "  <tbody>\n",
              "    <tr>\n",
              "      <th>0</th>\n",
              "      <td>0.0</td>\n",
              "      <td>0.0</td>\n",
              "      <td>1.0</td>\n",
              "      <td>0.455</td>\n",
              "      <td>0.365</td>\n",
              "      <td>0.095</td>\n",
              "      <td>0.5140</td>\n",
              "      <td>0.2245</td>\n",
              "      <td>0.1010</td>\n",
              "      <td>0.150</td>\n",
              "      <td>15</td>\n",
              "    </tr>\n",
              "    <tr>\n",
              "      <th>1</th>\n",
              "      <td>0.0</td>\n",
              "      <td>0.0</td>\n",
              "      <td>1.0</td>\n",
              "      <td>0.350</td>\n",
              "      <td>0.265</td>\n",
              "      <td>0.090</td>\n",
              "      <td>0.2255</td>\n",
              "      <td>0.0995</td>\n",
              "      <td>0.0485</td>\n",
              "      <td>0.070</td>\n",
              "      <td>7</td>\n",
              "    </tr>\n",
              "    <tr>\n",
              "      <th>2</th>\n",
              "      <td>1.0</td>\n",
              "      <td>0.0</td>\n",
              "      <td>0.0</td>\n",
              "      <td>0.530</td>\n",
              "      <td>0.420</td>\n",
              "      <td>0.135</td>\n",
              "      <td>0.6770</td>\n",
              "      <td>0.2565</td>\n",
              "      <td>0.1415</td>\n",
              "      <td>0.210</td>\n",
              "      <td>9</td>\n",
              "    </tr>\n",
              "    <tr>\n",
              "      <th>3</th>\n",
              "      <td>0.0</td>\n",
              "      <td>0.0</td>\n",
              "      <td>1.0</td>\n",
              "      <td>0.440</td>\n",
              "      <td>0.365</td>\n",
              "      <td>0.125</td>\n",
              "      <td>0.5160</td>\n",
              "      <td>0.2155</td>\n",
              "      <td>0.1140</td>\n",
              "      <td>0.155</td>\n",
              "      <td>10</td>\n",
              "    </tr>\n",
              "    <tr>\n",
              "      <th>4</th>\n",
              "      <td>0.0</td>\n",
              "      <td>1.0</td>\n",
              "      <td>0.0</td>\n",
              "      <td>0.330</td>\n",
              "      <td>0.255</td>\n",
              "      <td>0.080</td>\n",
              "      <td>0.2050</td>\n",
              "      <td>0.0895</td>\n",
              "      <td>0.0395</td>\n",
              "      <td>0.055</td>\n",
              "      <td>7</td>\n",
              "    </tr>\n",
              "  </tbody>\n",
              "</table>\n",
              "</div>"
            ],
            "text/plain": [
              "   Female  Infant  Male  ...  Viscera weight  Shell weight  Rings\n",
              "0     0.0     0.0   1.0  ...          0.1010         0.150     15\n",
              "1     0.0     0.0   1.0  ...          0.0485         0.070      7\n",
              "2     1.0     0.0   0.0  ...          0.1415         0.210      9\n",
              "3     0.0     0.0   1.0  ...          0.1140         0.155     10\n",
              "4     0.0     1.0   0.0  ...          0.0395         0.055      7\n",
              "\n",
              "[5 rows x 11 columns]"
            ]
          },
          "metadata": {
            "tags": []
          },
          "execution_count": 4
        }
      ]
    },
    {
      "cell_type": "code",
      "metadata": {
        "colab": {
          "base_uri": "https://localhost:8080/"
        },
        "id": "S2uTP3MfdHua",
        "outputId": "2ae233a3-b97d-4790-ee83-5702d7b3d26d"
      },
      "source": [
        "abalone[\"Rings\"].unique()"
      ],
      "execution_count": null,
      "outputs": [
        {
          "output_type": "execute_result",
          "data": {
            "text/plain": [
              "array([15,  7,  9, 10,  8, 20, 16, 19, 14, 11, 12, 18, 13,  5,  4,  6, 21,\n",
              "       17, 22,  1,  3, 26, 23, 29,  2, 27, 25, 24])"
            ]
          },
          "metadata": {
            "tags": []
          },
          "execution_count": 5
        }
      ]
    },
    {
      "cell_type": "code",
      "metadata": {
        "colab": {
          "base_uri": "https://localhost:8080/"
        },
        "id": "zEmtmvNDyniB",
        "outputId": "6025ee57-1434-49ab-eb18-6f959e5ad22a"
      },
      "source": [
        "for i in range(1,30):\n",
        "  print(abalone[abalone.Rings == i].shape[0])"
      ],
      "execution_count": null,
      "outputs": [
        {
          "output_type": "stream",
          "text": [
            "1\n",
            "1\n",
            "15\n",
            "57\n",
            "115\n",
            "259\n",
            "391\n",
            "568\n",
            "689\n",
            "634\n",
            "487\n",
            "267\n",
            "203\n",
            "126\n",
            "103\n",
            "67\n",
            "58\n",
            "42\n",
            "32\n",
            "26\n",
            "14\n",
            "6\n",
            "9\n",
            "2\n",
            "1\n",
            "1\n",
            "2\n",
            "0\n",
            "1\n"
          ],
          "name": "stdout"
        }
      ]
    },
    {
      "cell_type": "code",
      "metadata": {
        "colab": {
          "base_uri": "https://localhost:8080/"
        },
        "id": "eZm_6bV1dHlK",
        "outputId": "3bfb595a-4857-4c3d-f89c-daa5152f5f07"
      },
      "source": [
        "abalone.info()"
      ],
      "execution_count": null,
      "outputs": [
        {
          "output_type": "stream",
          "text": [
            "<class 'pandas.core.frame.DataFrame'>\n",
            "RangeIndex: 4177 entries, 0 to 4176\n",
            "Data columns (total 11 columns):\n",
            " #   Column          Non-Null Count  Dtype  \n",
            "---  ------          --------------  -----  \n",
            " 0   Female          4177 non-null   float64\n",
            " 1   Infant          4177 non-null   float64\n",
            " 2   Male            4177 non-null   float64\n",
            " 3   Length          4177 non-null   float64\n",
            " 4   Diameter        4177 non-null   float64\n",
            " 5   Height          4177 non-null   float64\n",
            " 6   Whole weight    4177 non-null   float64\n",
            " 7   Shucked weight  4177 non-null   float64\n",
            " 8   Viscera weight  4177 non-null   float64\n",
            " 9   Shell weight    4177 non-null   float64\n",
            " 10  Rings           4177 non-null   int64  \n",
            "dtypes: float64(10), int64(1)\n",
            "memory usage: 359.1 KB\n"
          ],
          "name": "stdout"
        }
      ]
    },
    {
      "cell_type": "markdown",
      "metadata": {
        "id": "kI_0Q_JUhvZR"
      },
      "source": [
        "Разобьём выборку на категориальные признаки, числовые признаки и на классы."
      ]
    },
    {
      "cell_type": "code",
      "metadata": {
        "id": "SPYCAbOsdHd1"
      },
      "source": [
        "X_cat = abalone[['Female','Infant', 'Male']]\n",
        "y = pd.DataFrame(abalone.iloc[:,-1])\n",
        "X_real = abalone.iloc[:, 3:-1]"
      ],
      "execution_count": null,
      "outputs": []
    },
    {
      "cell_type": "code",
      "metadata": {
        "colab": {
          "base_uri": "https://localhost:8080/",
          "height": 194
        },
        "id": "KP2ruRzJgqo4",
        "outputId": "d8f656a6-a2b9-4976-dab4-49beeea83dec"
      },
      "source": [
        "y.head()"
      ],
      "execution_count": null,
      "outputs": [
        {
          "output_type": "execute_result",
          "data": {
            "text/html": [
              "<div>\n",
              "<style scoped>\n",
              "    .dataframe tbody tr th:only-of-type {\n",
              "        vertical-align: middle;\n",
              "    }\n",
              "\n",
              "    .dataframe tbody tr th {\n",
              "        vertical-align: top;\n",
              "    }\n",
              "\n",
              "    .dataframe thead th {\n",
              "        text-align: right;\n",
              "    }\n",
              "</style>\n",
              "<table border=\"1\" class=\"dataframe\">\n",
              "  <thead>\n",
              "    <tr style=\"text-align: right;\">\n",
              "      <th></th>\n",
              "      <th>Rings</th>\n",
              "    </tr>\n",
              "  </thead>\n",
              "  <tbody>\n",
              "    <tr>\n",
              "      <th>0</th>\n",
              "      <td>15</td>\n",
              "    </tr>\n",
              "    <tr>\n",
              "      <th>1</th>\n",
              "      <td>7</td>\n",
              "    </tr>\n",
              "    <tr>\n",
              "      <th>2</th>\n",
              "      <td>9</td>\n",
              "    </tr>\n",
              "    <tr>\n",
              "      <th>3</th>\n",
              "      <td>10</td>\n",
              "    </tr>\n",
              "    <tr>\n",
              "      <th>4</th>\n",
              "      <td>7</td>\n",
              "    </tr>\n",
              "  </tbody>\n",
              "</table>\n",
              "</div>"
            ],
            "text/plain": [
              "   Rings\n",
              "0     15\n",
              "1      7\n",
              "2      9\n",
              "3     10\n",
              "4      7"
            ]
          },
          "metadata": {
            "tags": []
          },
          "execution_count": 20
        }
      ]
    },
    {
      "cell_type": "markdown",
      "metadata": {
        "id": "80ILUYhjh3Nn"
      },
      "source": [
        "Заменим значения y на возрастной диапазон к которому относится экзэмпляр. С 1 до 7 колец - молодой, с 8 до 11 средний, с 12 до 29 старый."
      ]
    },
    {
      "cell_type": "code",
      "metadata": {
        "id": "QbndGKTPiFjs"
      },
      "source": [
        "for i in range(len(y)):\n",
        "  if(y['Rings'][i] < 8):\n",
        "    y['Rings'][i] = \"young\"\n",
        "  elif(y['Rings'][i] < 12):\n",
        "    y['Rings'][i] = \"middle\"\n",
        "  else:\n",
        "    y['Rings'][i] = \"old\""
      ],
      "execution_count": null,
      "outputs": []
    },
    {
      "cell_type": "code",
      "metadata": {
        "colab": {
          "base_uri": "https://localhost:8080/",
          "height": 194
        },
        "id": "J9deYqnukbsS",
        "outputId": "ffc2a4ba-d16e-4ac1-ffc6-52be0061823b"
      },
      "source": [
        "y.head()"
      ],
      "execution_count": null,
      "outputs": [
        {
          "output_type": "execute_result",
          "data": {
            "text/html": [
              "<div>\n",
              "<style scoped>\n",
              "    .dataframe tbody tr th:only-of-type {\n",
              "        vertical-align: middle;\n",
              "    }\n",
              "\n",
              "    .dataframe tbody tr th {\n",
              "        vertical-align: top;\n",
              "    }\n",
              "\n",
              "    .dataframe thead th {\n",
              "        text-align: right;\n",
              "    }\n",
              "</style>\n",
              "<table border=\"1\" class=\"dataframe\">\n",
              "  <thead>\n",
              "    <tr style=\"text-align: right;\">\n",
              "      <th></th>\n",
              "      <th>Rings</th>\n",
              "    </tr>\n",
              "  </thead>\n",
              "  <tbody>\n",
              "    <tr>\n",
              "      <th>0</th>\n",
              "      <td>old</td>\n",
              "    </tr>\n",
              "    <tr>\n",
              "      <th>1</th>\n",
              "      <td>young</td>\n",
              "    </tr>\n",
              "    <tr>\n",
              "      <th>2</th>\n",
              "      <td>middle</td>\n",
              "    </tr>\n",
              "    <tr>\n",
              "      <th>3</th>\n",
              "      <td>middle</td>\n",
              "    </tr>\n",
              "    <tr>\n",
              "      <th>4</th>\n",
              "      <td>young</td>\n",
              "    </tr>\n",
              "  </tbody>\n",
              "</table>\n",
              "</div>"
            ],
            "text/plain": [
              "    Rings\n",
              "0     old\n",
              "1   young\n",
              "2  middle\n",
              "3  middle\n",
              "4   young"
            ]
          },
          "metadata": {
            "tags": []
          },
          "execution_count": 22
        }
      ]
    },
    {
      "cell_type": "code",
      "metadata": {
        "id": "_IPlLBX83Z5B"
      },
      "source": [
        "(X_real_train, X_real_test, y_train, y_test) =  train_test_split(X_real, y, test_size = 0.2, random_state = 0)\n",
        "\n",
        "(X_cat_train, X_cat_test) = train_test_split(X_cat, test_size=0.2, random_state = 0)"
      ],
      "execution_count": null,
      "outputs": []
    },
    {
      "cell_type": "code",
      "metadata": {
        "id": "KoIDGerx2cv4"
      },
      "source": [
        "scaler = StandardScaler()\n",
        "scaler.fit(X_real_train, y_train)\n",
        "X_real_train_scaled = scaler.transform(X_real_train)\n",
        "X_real_test_scaled = scaler.transform(X_real_test)"
      ],
      "execution_count": null,
      "outputs": []
    },
    {
      "cell_type": "code",
      "metadata": {
        "colab": {
          "base_uri": "https://localhost:8080/"
        },
        "id": "t8ZYtAci5BJc",
        "outputId": "757a4efe-878f-499c-c029-d39ec32681b9"
      },
      "source": [
        "X_real_train_scaled"
      ],
      "execution_count": null,
      "outputs": [
        {
          "output_type": "execute_result",
          "data": {
            "text/plain": [
              "array([[-2.88863777, -2.77572159, -1.41092732, ..., -1.55762803,\n",
              "        -1.58940432, -1.65503169],\n",
              "       [-2.59633945, -2.62402222, -1.99755535, ..., -1.55539711,\n",
              "        -1.57129213, -1.6371499 ],\n",
              "       [ 1.12002486,  1.21902846,  0.70093358, ...,  1.01239041,\n",
              "         0.26709517,  1.51362157],\n",
              "       ...,\n",
              "       [ 0.57718513,  0.40996516,  0.11430555, ...,  0.44350612,\n",
              "         0.21728665,  0.0866547 ],\n",
              "       [ 0.82772654,  0.81449681,  0.58360797, ...,  0.50597185,\n",
              "         0.4889695 ,  0.55158125],\n",
              "       [-0.96782026, -0.85419625, -0.70697369, ..., -1.0311312 ,\n",
              "        -0.97358986, -1.00413452]])"
            ]
          },
          "metadata": {
            "tags": []
          },
          "execution_count": 25
        }
      ]
    },
    {
      "cell_type": "code",
      "metadata": {
        "id": "nYi5JnXv5JUI"
      },
      "source": [
        "X_cat_train = pd.DataFrame(X_cat_train)\n",
        "X_cat_test = pd.DataFrame(X_cat_test)\n",
        "\n",
        "X_real_train_scaled = pd.DataFrame(X_real_train_scaled)\n",
        "X_real_test_scaled = pd.DataFrame(X_real_test_scaled)\n",
        "\n",
        "X_cat_train.index = X_real_train_scaled.index\n",
        "X_train = pd.concat([X_real_train_scaled, X_cat_train], axis=1)\n",
        "\n",
        "X_cat_test.index = X_real_test_scaled.index\n",
        "X_test = pd.concat([X_real_test_scaled, X_cat_test], axis=1)"
      ],
      "execution_count": null,
      "outputs": []
    },
    {
      "cell_type": "code",
      "metadata": {
        "colab": {
          "base_uri": "https://localhost:8080/",
          "height": 194
        },
        "id": "38kOTMxTlweB",
        "outputId": "7f98db10-726a-4604-969c-fba54b81cf8c"
      },
      "source": [
        "X_train.head()"
      ],
      "execution_count": null,
      "outputs": [
        {
          "output_type": "execute_result",
          "data": {
            "text/html": [
              "<div>\n",
              "<style scoped>\n",
              "    .dataframe tbody tr th:only-of-type {\n",
              "        vertical-align: middle;\n",
              "    }\n",
              "\n",
              "    .dataframe tbody tr th {\n",
              "        vertical-align: top;\n",
              "    }\n",
              "\n",
              "    .dataframe thead th {\n",
              "        text-align: right;\n",
              "    }\n",
              "</style>\n",
              "<table border=\"1\" class=\"dataframe\">\n",
              "  <thead>\n",
              "    <tr style=\"text-align: right;\">\n",
              "      <th></th>\n",
              "      <th>0</th>\n",
              "      <th>1</th>\n",
              "      <th>2</th>\n",
              "      <th>3</th>\n",
              "      <th>4</th>\n",
              "      <th>5</th>\n",
              "      <th>6</th>\n",
              "      <th>Female</th>\n",
              "      <th>Infant</th>\n",
              "      <th>Male</th>\n",
              "    </tr>\n",
              "  </thead>\n",
              "  <tbody>\n",
              "    <tr>\n",
              "      <th>0</th>\n",
              "      <td>-2.888638</td>\n",
              "      <td>-2.775722</td>\n",
              "      <td>-1.410927</td>\n",
              "      <td>-1.630852</td>\n",
              "      <td>-1.557628</td>\n",
              "      <td>-1.589404</td>\n",
              "      <td>-1.655032</td>\n",
              "      <td>0.0</td>\n",
              "      <td>1.0</td>\n",
              "      <td>0.0</td>\n",
              "    </tr>\n",
              "    <tr>\n",
              "      <th>1</th>\n",
              "      <td>-2.596339</td>\n",
              "      <td>-2.624022</td>\n",
              "      <td>-1.997555</td>\n",
              "      <td>-1.614648</td>\n",
              "      <td>-1.555397</td>\n",
              "      <td>-1.571292</td>\n",
              "      <td>-1.637150</td>\n",
              "      <td>0.0</td>\n",
              "      <td>1.0</td>\n",
              "      <td>0.0</td>\n",
              "    </tr>\n",
              "    <tr>\n",
              "      <th>2</th>\n",
              "      <td>1.120025</td>\n",
              "      <td>1.219028</td>\n",
              "      <td>0.700934</td>\n",
              "      <td>1.118712</td>\n",
              "      <td>1.012390</td>\n",
              "      <td>0.267095</td>\n",
              "      <td>1.513622</td>\n",
              "      <td>0.0</td>\n",
              "      <td>0.0</td>\n",
              "      <td>1.0</td>\n",
              "    </tr>\n",
              "    <tr>\n",
              "      <th>3</th>\n",
              "      <td>1.579351</td>\n",
              "      <td>1.168462</td>\n",
              "      <td>1.404887</td>\n",
              "      <td>2.130430</td>\n",
              "      <td>2.616421</td>\n",
              "      <td>2.295660</td>\n",
              "      <td>1.352685</td>\n",
              "      <td>0.0</td>\n",
              "      <td>0.0</td>\n",
              "      <td>1.0</td>\n",
              "    </tr>\n",
              "    <tr>\n",
              "      <th>4</th>\n",
              "      <td>0.577185</td>\n",
              "      <td>0.460532</td>\n",
              "      <td>0.348957</td>\n",
              "      <td>0.410813</td>\n",
              "      <td>0.233800</td>\n",
              "      <td>0.253511</td>\n",
              "      <td>0.884183</td>\n",
              "      <td>0.0</td>\n",
              "      <td>0.0</td>\n",
              "      <td>1.0</td>\n",
              "    </tr>\n",
              "  </tbody>\n",
              "</table>\n",
              "</div>"
            ],
            "text/plain": [
              "          0         1         2         3  ...         6  Female  Infant  Male\n",
              "0 -2.888638 -2.775722 -1.410927 -1.630852  ... -1.655032     0.0     1.0   0.0\n",
              "1 -2.596339 -2.624022 -1.997555 -1.614648  ... -1.637150     0.0     1.0   0.0\n",
              "2  1.120025  1.219028  0.700934  1.118712  ...  1.513622     0.0     0.0   1.0\n",
              "3  1.579351  1.168462  1.404887  2.130430  ...  1.352685     0.0     0.0   1.0\n",
              "4  0.577185  0.460532  0.348957  0.410813  ...  0.884183     0.0     0.0   1.0\n",
              "\n",
              "[5 rows x 10 columns]"
            ]
          },
          "metadata": {
            "tags": []
          },
          "execution_count": 36
        }
      ]
    },
    {
      "cell_type": "markdown",
      "metadata": {
        "id": "8euwq-tLtVhb"
      },
      "source": [
        "Обучим модель метода k-ближайших соседей."
      ]
    },
    {
      "cell_type": "code",
      "metadata": {
        "colab": {
          "base_uri": "https://localhost:8080/"
        },
        "id": "K0BoFczgnWkN",
        "outputId": "af536a75-8f8f-4106-9801-feb836156e3f"
      },
      "source": [
        "knn = KNeighborsClassifier(n_neighbors=5)\n",
        "knn.fit(X_train,y_train)\n",
        "y_pred = knn.predict(X_test)\n",
        "print(confusion_matrix(y_test, y_pred))\n",
        "print(classification_report(y_test, y_pred))\n"
      ],
      "execution_count": null,
      "outputs": [
        {
          "output_type": "stream",
          "text": [
            "[[362  44  36]\n",
            " [111  87   2]\n",
            " [ 61   0 133]]\n",
            "              precision    recall  f1-score   support\n",
            "\n",
            "      middle       0.68      0.82      0.74       442\n",
            "         old       0.66      0.43      0.53       200\n",
            "       young       0.78      0.69      0.73       194\n",
            "\n",
            "    accuracy                           0.70       836\n",
            "   macro avg       0.71      0.65      0.67       836\n",
            "weighted avg       0.70      0.70      0.69       836\n",
            "\n"
          ],
          "name": "stdout"
        },
        {
          "output_type": "stream",
          "text": [
            "/usr/local/lib/python3.7/dist-packages/ipykernel_launcher.py:2: DataConversionWarning: A column-vector y was passed when a 1d array was expected. Please change the shape of y to (n_samples, ), for example using ravel().\n",
            "  \n"
          ],
          "name": "stderr"
        }
      ]
    },
    {
      "cell_type": "markdown",
      "metadata": {
        "id": "j6wbpCl3wwNA"
      },
      "source": [
        "Попробуем подобрать параметры."
      ]
    },
    {
      "cell_type": "code",
      "metadata": {
        "colab": {
          "base_uri": "https://localhost:8080/"
        },
        "id": "nT6TZHJyt3cE",
        "outputId": "397cbab5-8c29-48a5-ac35-0d79e00a6628"
      },
      "source": [
        "knn.get_params().keys()"
      ],
      "execution_count": null,
      "outputs": [
        {
          "output_type": "execute_result",
          "data": {
            "text/plain": [
              "dict_keys(['algorithm', 'leaf_size', 'metric', 'metric_params', 'n_jobs', 'n_neighbors', 'p', 'weights'])"
            ]
          },
          "metadata": {
            "tags": []
          },
          "execution_count": 38
        }
      ]
    },
    {
      "cell_type": "code",
      "metadata": {
        "id": "zbhU0kitt-uM"
      },
      "source": [
        "knn_parameters_grid = {'n_neighbors': range(1, 10),\n",
        "                       'weights': ['uniform', 'distance'],\n",
        "                       'metric': ['minkowski', 'manhattan', 'euclidean', 'chebyshev'],\n",
        "                       'algorithm': ['brute', 'ball_tree', 'KD_tree', 'auto']\n",
        "                       }"
      ],
      "execution_count": null,
      "outputs": []
    },
    {
      "cell_type": "code",
      "metadata": {
        "colab": {
          "base_uri": "https://localhost:8080/"
        },
        "id": "ih7jazF_xKCp",
        "outputId": "4b49a227-341a-4909-eefd-2bcdbc3a83d0"
      },
      "source": [
        "knn_grid = GridSearchCV(knn, knn_parameters_grid,\n",
        "                        cv=5, n_jobs=-1, verbose=True)\n",
        "knn_grid.fit(X_train,y_train)\n",
        "knn_grid.best_params_, knn_grid.best_score_"
      ],
      "execution_count": null,
      "outputs": [
        {
          "output_type": "stream",
          "text": [
            "Fitting 5 folds for each of 288 candidates, totalling 1440 fits\n"
          ],
          "name": "stdout"
        },
        {
          "output_type": "stream",
          "text": [
            "[Parallel(n_jobs=-1)]: Using backend LokyBackend with 2 concurrent workers.\n",
            "[Parallel(n_jobs=-1)]: Done 164 tasks      | elapsed:    6.0s\n",
            "[Parallel(n_jobs=-1)]: Done 764 tasks      | elapsed:   24.7s\n",
            "[Parallel(n_jobs=-1)]: Done 1440 out of 1440 | elapsed:   34.7s finished\n",
            "/usr/local/lib/python3.7/dist-packages/sklearn/model_selection/_search.py:739: DataConversionWarning: A column-vector y was passed when a 1d array was expected. Please change the shape of y to (n_samples, ), for example using ravel().\n",
            "  self.best_estimator_.fit(X, y, **fit_params)\n"
          ],
          "name": "stderr"
        },
        {
          "output_type": "execute_result",
          "data": {
            "text/plain": [
              "({'algorithm': 'brute',\n",
              "  'metric': 'manhattan',\n",
              "  'n_neighbors': 9,\n",
              "  'weights': 'uniform'},\n",
              " 0.7210395352792174)"
            ]
          },
          "metadata": {
            "tags": []
          },
          "execution_count": 53
        }
      ]
    },
    {
      "cell_type": "markdown",
      "metadata": {
        "id": "7WAIzpe0zJvz"
      },
      "source": [
        "Удалось немного повысить точность предсказания."
      ]
    },
    {
      "cell_type": "markdown",
      "metadata": {
        "id": "CElz8U3qx3RH"
      },
      "source": [
        "Теперь обучим классификатор дерева решений."
      ]
    },
    {
      "cell_type": "code",
      "metadata": {
        "colab": {
          "base_uri": "https://localhost:8080/"
        },
        "id": "xTNFTZIXrCyH",
        "outputId": "defb50c1-bf8b-4e25-ff92-087b03699a72"
      },
      "source": [
        "dtc = tree.DecisionTreeClassifier()\n",
        "dtc.fit(X_train,y_train)\n",
        "y_pred_2 = dtc.predict(X_test)\n",
        "print(confusion_matrix(y_test, y_pred_2))\n",
        "print(classification_report(y_test, y_pred_2))"
      ],
      "execution_count": null,
      "outputs": [
        {
          "output_type": "stream",
          "text": [
            "[[326  78  38]\n",
            " [ 92 103   5]\n",
            " [ 57   3 134]]\n",
            "              precision    recall  f1-score   support\n",
            "\n",
            "      middle       0.69      0.74      0.71       442\n",
            "         old       0.56      0.52      0.54       200\n",
            "       young       0.76      0.69      0.72       194\n",
            "\n",
            "    accuracy                           0.67       836\n",
            "   macro avg       0.67      0.65      0.66       836\n",
            "weighted avg       0.67      0.67      0.67       836\n",
            "\n"
          ],
          "name": "stdout"
        }
      ]
    },
    {
      "cell_type": "markdown",
      "metadata": {
        "id": "fvei6t9czwGD"
      },
      "source": [
        "Попробуем подобрать гиперпараметры для этой модели."
      ]
    },
    {
      "cell_type": "code",
      "metadata": {
        "colab": {
          "base_uri": "https://localhost:8080/"
        },
        "id": "EHZMCY2NztpV",
        "outputId": "63a3e556-ef1d-4a1a-f643-cd2bc9a4b682"
      },
      "source": [
        "dtc.get_params().keys()"
      ],
      "execution_count": null,
      "outputs": [
        {
          "output_type": "execute_result",
          "data": {
            "text/plain": [
              "dict_keys(['ccp_alpha', 'class_weight', 'criterion', 'max_depth', 'max_features', 'max_leaf_nodes', 'min_impurity_decrease', 'min_impurity_split', 'min_samples_leaf', 'min_samples_split', 'min_weight_fraction_leaf', 'presort', 'random_state', 'splitter'])"
            ]
          },
          "metadata": {
            "tags": []
          },
          "execution_count": 69
        }
      ]
    },
    {
      "cell_type": "code",
      "metadata": {
        "id": "3J0XhBvM0CP8"
      },
      "source": [
        "dtc_parameters_grid = {'max_depth': range(1,6),\n",
        "                      'max_features': range(1,7),\n",
        "                      'min_samples_leaf' : range(1,10)}"
      ],
      "execution_count": null,
      "outputs": []
    },
    {
      "cell_type": "code",
      "metadata": {
        "colab": {
          "base_uri": "https://localhost:8080/"
        },
        "id": "LANkYRWI01Co",
        "outputId": "4ffc5279-1403-4f56-86f7-ff332a4ef9f1"
      },
      "source": [
        "dtc_grid = GridSearchCV(dtc, dtc_parameters_grid,\n",
        "                        cv=5, n_jobs=-1, verbose=True)\n",
        "dtc_grid.fit(X_train, y_train)\n",
        "dtc_grid.best_params_, dtc_grid.best_score_"
      ],
      "execution_count": null,
      "outputs": [
        {
          "output_type": "stream",
          "text": [
            "Fitting 5 folds for each of 270 candidates, totalling 1350 fits\n"
          ],
          "name": "stdout"
        },
        {
          "output_type": "stream",
          "text": [
            "[Parallel(n_jobs=-1)]: Using backend LokyBackend with 2 concurrent workers.\n",
            "[Parallel(n_jobs=-1)]: Done 540 tasks      | elapsed:    3.2s\n",
            "[Parallel(n_jobs=-1)]: Done 1350 out of 1350 | elapsed:    8.6s finished\n"
          ],
          "name": "stderr"
        },
        {
          "output_type": "execute_result",
          "data": {
            "text/plain": [
              "({'max_depth': 5, 'max_features': 6, 'min_samples_leaf': 1}, 0.711167351395863)"
            ]
          },
          "metadata": {
            "tags": []
          },
          "execution_count": 71
        }
      ]
    },
    {
      "cell_type": "markdown",
      "metadata": {
        "id": "EpJko5931hO6"
      },
      "source": [
        "Точность увеличилась сильнее чем у прошлой модели после подбора параметров, но всё же оказалась менее точной."
      ]
    },
    {
      "cell_type": "markdown",
      "metadata": {
        "id": "4v0wKX9No_3z"
      },
      "source": [
        "Попробуем сделать то же с наивным байесовским классификатором"
      ]
    },
    {
      "cell_type": "code",
      "metadata": {
        "colab": {
          "base_uri": "https://localhost:8080/"
        },
        "id": "rPgdPFbq2aPz",
        "outputId": "d906ee21-a2cd-430d-d430-6dbceebead67"
      },
      "source": [
        "nb = GaussianNB()\n",
        "nb.fit(X_train, y_train)\n",
        "y_pred_3 = nb.predict(X_test)\n",
        "print(confusion_matrix(y_test, y_pred_3))\n",
        "print(classification_report(y_test, y_pred_3))"
      ],
      "execution_count": null,
      "outputs": [
        {
          "output_type": "stream",
          "text": [
            "[[216 136  90]\n",
            " [ 92 100   8]\n",
            " [ 33   2 159]]\n",
            "              precision    recall  f1-score   support\n",
            "\n",
            "      middle       0.63      0.49      0.55       442\n",
            "         old       0.42      0.50      0.46       200\n",
            "       young       0.62      0.82      0.71       194\n",
            "\n",
            "    accuracy                           0.57       836\n",
            "   macro avg       0.56      0.60      0.57       836\n",
            "weighted avg       0.58      0.57      0.56       836\n",
            "\n"
          ],
          "name": "stdout"
        },
        {
          "output_type": "stream",
          "text": [
            "/usr/local/lib/python3.7/dist-packages/sklearn/naive_bayes.py:206: DataConversionWarning: A column-vector y was passed when a 1d array was expected. Please change the shape of y to (n_samples, ), for example using ravel().\n",
            "  y = column_or_1d(y, warn=True)\n"
          ],
          "name": "stderr"
        }
      ]
    },
    {
      "cell_type": "markdown",
      "metadata": {
        "id": "XM5wp4DZ5huD"
      },
      "source": [
        "Точность получилась маленькая."
      ]
    },
    {
      "cell_type": "markdown",
      "metadata": {
        "id": "u_r0N8Pk5m2F"
      },
      "source": [
        "Проверим метод опорных векторов."
      ]
    },
    {
      "cell_type": "code",
      "metadata": {
        "colab": {
          "base_uri": "https://localhost:8080/"
        },
        "id": "0V5tMo0z23-D",
        "outputId": "25ce4884-6fc0-45ad-e99e-fa353a922043"
      },
      "source": [
        "svm = svm.SVC()\n",
        "svm.fit(X_train, y_train)\n",
        "y_pred_4 = svm.predict(X_test)\n",
        "print(confusion_matrix(y_test, y_pred_4))\n",
        "print(classification_report(y_test, y_pred_4))"
      ],
      "execution_count": null,
      "outputs": [
        {
          "output_type": "stream",
          "text": [
            "/usr/local/lib/python3.7/dist-packages/sklearn/utils/validation.py:760: DataConversionWarning: A column-vector y was passed when a 1d array was expected. Please change the shape of y to (n_samples, ), for example using ravel().\n",
            "  y = column_or_1d(y, warn=True)\n"
          ],
          "name": "stderr"
        },
        {
          "output_type": "stream",
          "text": [
            "[[393  23  26]\n",
            " [123  75   2]\n",
            " [ 56   0 138]]\n",
            "              precision    recall  f1-score   support\n",
            "\n",
            "      middle       0.69      0.89      0.78       442\n",
            "         old       0.77      0.38      0.50       200\n",
            "       young       0.83      0.71      0.77       194\n",
            "\n",
            "    accuracy                           0.72       836\n",
            "   macro avg       0.76      0.66      0.68       836\n",
            "weighted avg       0.74      0.72      0.71       836\n",
            "\n"
          ],
          "name": "stdout"
        }
      ]
    },
    {
      "cell_type": "markdown",
      "metadata": {
        "id": "FD2gbcEK55Jv"
      },
      "source": [
        "Точность изначально выше чем у моделей, стоящих раньше."
      ]
    },
    {
      "cell_type": "code",
      "metadata": {
        "colab": {
          "base_uri": "https://localhost:8080/"
        },
        "id": "GHhEmtwZ50Je",
        "outputId": "03ae0d7c-e782-4984-d67a-07e7880ebc6b"
      },
      "source": [
        "svm.get_params().keys()"
      ],
      "execution_count": null,
      "outputs": [
        {
          "output_type": "execute_result",
          "data": {
            "text/plain": [
              "dict_keys(['C', 'break_ties', 'cache_size', 'class_weight', 'coef0', 'decision_function_shape', 'degree', 'gamma', 'kernel', 'max_iter', 'probability', 'random_state', 'shrinking', 'tol', 'verbose'])"
            ]
          },
          "metadata": {
            "tags": []
          },
          "execution_count": 76
        }
      ]
    },
    {
      "cell_type": "code",
      "metadata": {
        "id": "aIA7GSL66SQz"
      },
      "source": [
        "svm_parameters_grid = {'C': [0.1, 1, 10, 100, 1000], \n",
        "\n",
        "              'gamma': [1, 0.1, 0.01, 0.001, 0.0001],\n",
        "\n",
        "              'kernel': ['rbf']}"
      ],
      "execution_count": null,
      "outputs": []
    },
    {
      "cell_type": "code",
      "metadata": {
        "colab": {
          "base_uri": "https://localhost:8080/"
        },
        "id": "pqoDqqrj7dWk",
        "outputId": "fa1a45cd-6e44-466f-8b61-f78985a59326"
      },
      "source": [
        "svm_grid = GridSearchCV(svm, svm_parameters_grid,\n",
        "                        cv=5, n_jobs=-1, verbose=True)\n",
        "svm_grid.fit(X_train, y_train)\n",
        "svm_grid.best_params_, svm_grid.best_score_"
      ],
      "execution_count": null,
      "outputs": [
        {
          "output_type": "stream",
          "text": [
            "Fitting 5 folds for each of 25 candidates, totalling 125 fits\n"
          ],
          "name": "stdout"
        },
        {
          "output_type": "stream",
          "text": [
            "[Parallel(n_jobs=-1)]: Using backend LokyBackend with 2 concurrent workers.\n",
            "[Parallel(n_jobs=-1)]: Done  46 tasks      | elapsed:   11.5s\n",
            "[Parallel(n_jobs=-1)]: Done 125 out of 125 | elapsed:   44.2s finished\n",
            "/usr/local/lib/python3.7/dist-packages/sklearn/utils/validation.py:760: DataConversionWarning: A column-vector y was passed when a 1d array was expected. Please change the shape of y to (n_samples, ), for example using ravel().\n",
            "  y = column_or_1d(y, warn=True)\n"
          ],
          "name": "stderr"
        },
        {
          "output_type": "execute_result",
          "data": {
            "text/plain": [
              "({'C': 1000, 'gamma': 0.01, 'kernel': 'rbf'}, 0.7530696454624384)"
            ]
          },
          "metadata": {
            "tags": []
          },
          "execution_count": 80
        }
      ]
    },
    {
      "cell_type": "markdown",
      "metadata": {
        "id": "qa8WknEi75gd"
      },
      "source": [
        "После подбора гиперпараметров эта модель показала самую высокую точность."
      ]
    },
    {
      "cell_type": "markdown",
      "metadata": {
        "id": "FKacRfmp8H9D"
      },
      "source": [
        "Проверим последнюю модель."
      ]
    },
    {
      "cell_type": "code",
      "metadata": {
        "colab": {
          "base_uri": "https://localhost:8080/"
        },
        "id": "Kcw_TymZ3Qli",
        "outputId": "524fe433-5e4e-4ed4-eb17-ecf078700355"
      },
      "source": [
        "lg = LogisticRegression()\n",
        "lg.fit(X_train, y_train)\n",
        "y_pred_5 = lg.predict(X_test)\n",
        "print(confusion_matrix(y_test, y_pred_5))\n",
        "print(classification_report(y_test, y_pred_5))"
      ],
      "execution_count": null,
      "outputs": [
        {
          "output_type": "stream",
          "text": [
            "[[386  27  29]\n",
            " [118  81   1]\n",
            " [ 57   0 137]]\n",
            "              precision    recall  f1-score   support\n",
            "\n",
            "      middle       0.69      0.87      0.77       442\n",
            "         old       0.75      0.41      0.53       200\n",
            "       young       0.82      0.71      0.76       194\n",
            "\n",
            "    accuracy                           0.72       836\n",
            "   macro avg       0.75      0.66      0.68       836\n",
            "weighted avg       0.73      0.72      0.71       836\n",
            "\n"
          ],
          "name": "stdout"
        },
        {
          "output_type": "stream",
          "text": [
            "/usr/local/lib/python3.7/dist-packages/sklearn/utils/validation.py:760: DataConversionWarning: A column-vector y was passed when a 1d array was expected. Please change the shape of y to (n_samples, ), for example using ravel().\n",
            "  y = column_or_1d(y, warn=True)\n",
            "/usr/local/lib/python3.7/dist-packages/sklearn/linear_model/_logistic.py:940: ConvergenceWarning: lbfgs failed to converge (status=1):\n",
            "STOP: TOTAL NO. of ITERATIONS REACHED LIMIT.\n",
            "\n",
            "Increase the number of iterations (max_iter) or scale the data as shown in:\n",
            "    https://scikit-learn.org/stable/modules/preprocessing.html\n",
            "Please also refer to the documentation for alternative solver options:\n",
            "    https://scikit-learn.org/stable/modules/linear_model.html#logistic-regression\n",
            "  extra_warning_msg=_LOGISTIC_SOLVER_CONVERGENCE_MSG)\n"
          ],
          "name": "stderr"
        }
      ]
    },
    {
      "cell_type": "code",
      "metadata": {
        "id": "NSSWvTdR47xR",
        "colab": {
          "base_uri": "https://localhost:8080/"
        },
        "outputId": "9d25d3c7-09b0-46e3-ec4d-1c9c2ef164e1"
      },
      "source": [
        "lg.get_params().keys()"
      ],
      "execution_count": null,
      "outputs": [
        {
          "output_type": "execute_result",
          "data": {
            "text/plain": [
              "dict_keys(['C', 'class_weight', 'dual', 'fit_intercept', 'intercept_scaling', 'l1_ratio', 'max_iter', 'multi_class', 'n_jobs', 'penalty', 'random_state', 'solver', 'tol', 'verbose', 'warm_start'])"
            ]
          },
          "metadata": {
            "tags": []
          },
          "execution_count": 82
        }
      ]
    },
    {
      "cell_type": "code",
      "metadata": {
        "id": "mO-fJ5bz8YE6"
      },
      "source": [
        "lg_parameters_grid = {'penalty' : ['l1', 'l2'],\n",
        "                       'C' : [1.0, 10, 100, 200],\n",
        "                       'max_iter': [100,  200, 300],\n",
        "                       }"
      ],
      "execution_count": null,
      "outputs": []
    },
    {
      "cell_type": "code",
      "metadata": {
        "colab": {
          "base_uri": "https://localhost:8080/"
        },
        "id": "m2gFyh5l-lP8",
        "outputId": "aeba4b52-c120-4df8-f7ff-47a0647cc288"
      },
      "source": [
        "lg_grid = GridSearchCV(lg, lg_parameters_grid,\n",
        "                        cv=5, n_jobs=-1, verbose=True)\n",
        "lg_grid.fit(X_train, y_train)\n",
        "lg_grid.best_params_, lg_grid.best_score_"
      ],
      "execution_count": null,
      "outputs": [
        {
          "output_type": "stream",
          "text": [
            "Fitting 5 folds for each of 24 candidates, totalling 120 fits\n"
          ],
          "name": "stdout"
        },
        {
          "output_type": "stream",
          "text": [
            "[Parallel(n_jobs=-1)]: Using backend LokyBackend with 2 concurrent workers.\n",
            "[Parallel(n_jobs=-1)]: Done  88 tasks      | elapsed:    6.1s\n",
            "[Parallel(n_jobs=-1)]: Done 120 out of 120 | elapsed:    8.0s finished\n",
            "/usr/local/lib/python3.7/dist-packages/sklearn/utils/validation.py:760: DataConversionWarning: A column-vector y was passed when a 1d array was expected. Please change the shape of y to (n_samples, ), for example using ravel().\n",
            "  y = column_or_1d(y, warn=True)\n"
          ],
          "name": "stderr"
        },
        {
          "output_type": "execute_result",
          "data": {
            "text/plain": [
              "({'C': 100, 'max_iter': 200, 'penalty': 'l2'}, 0.7446864119295042)"
            ]
          },
          "metadata": {
            "tags": []
          },
          "execution_count": 95
        }
      ]
    },
    {
      "cell_type": "markdown",
      "metadata": {
        "id": "U8qa-6IS_E1w"
      },
      "source": [
        "Результат немного меньше чем у прошлой модели, но выше чем у остальных."
      ]
    }
  ]
}