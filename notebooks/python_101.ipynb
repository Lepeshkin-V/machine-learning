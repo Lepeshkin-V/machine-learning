{
  "nbformat": 4,
  "nbformat_minor": 0,
  "metadata": {
    "colab": {
      "name": "python_101.ipynb",
      "provenance": [],
      "collapsed_sections": []
    },
    "kernelspec": {
      "name": "python3",
      "display_name": "Python 3"
    }
  },
  "cells": [
    {
      "cell_type": "markdown",
      "metadata": {
        "id": "C9ATs40B5RIc"
      },
      "source": [
        "# Дано два листа. Написать функцию возвращающую уникальные элементы, которые встречаются и в первом, и во втором листе.\r\n"
      ]
    },
    {
      "cell_type": "code",
      "metadata": {
        "id": "mTsgQcN-5Pze"
      },
      "source": [
        "def unique_values(list1, list2):\r\n",
        "  set1 = set(list1)\r\n",
        "  set2 = set(list2)\r\n",
        "  return list(set1 & set2)"
      ],
      "execution_count": null,
      "outputs": []
    },
    {
      "cell_type": "code",
      "metadata": {
        "colab": {
          "base_uri": "https://localhost:8080/"
        },
        "id": "q6l8g3q68d9H",
        "outputId": "b57b4ab2-c8fc-46da-9012-858c914b02f2"
      },
      "source": [
        "list1 =['a','b','c','d','e','f','g','a','b','c','d','e','f','g']\r\n",
        "list2 = ['b','d','j','k','z','b','d','j','k','z']\r\n",
        "list3 = unique_values(list1, list2)\r\n",
        "print(list3)"
      ],
      "execution_count": null,
      "outputs": [
        {
          "output_type": "stream",
          "text": [
            "['d', 'b']\n"
          ],
          "name": "stdout"
        }
      ]
    }
  ]
}