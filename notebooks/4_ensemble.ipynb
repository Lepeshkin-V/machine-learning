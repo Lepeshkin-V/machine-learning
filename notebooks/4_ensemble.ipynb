{
  "nbformat": 4,
  "nbformat_minor": 0,
  "metadata": {
    "colab": {
      "name": "4_ensemble.ipynb",
      "provenance": []
    },
    "kernelspec": {
      "name": "python3",
      "display_name": "Python 3"
    }
  },
  "cells": [
    {
      "cell_type": "code",
      "metadata": {
        "id": "7ZtTCcCIUy5v"
      },
      "source": [
        "import pandas as pd\n",
        "import numpy as np\n",
        "from sklearn.svm import SVC\n",
        "from sklearn.tree import DecisionTreeRegressor\n",
        "from sklearn.model_selection import train_test_split\n",
        "from sklearn.preprocessing import StandardScaler\n",
        "from sklearn.model_selection import GridSearchCV\n",
        "from sklearn import metrics\n",
        "from sklearn import ensemble  \n",
        "from sklearn.neighbors import KNeighborsClassifier\n",
        "from sklearn.linear_model import Ridge"
      ],
      "execution_count": null,
      "outputs": []
    },
    {
      "cell_type": "markdown",
      "metadata": {
        "id": "iFqtEYsiQlJs"
      },
      "source": [
        "# Композиции модели для задачи классификации"
      ]
    },
    {
      "cell_type": "markdown",
      "metadata": {
        "id": "3Y0915FTS2mY"
      },
      "source": [
        "## Подготовка данных"
      ]
    },
    {
      "cell_type": "code",
      "metadata": {
        "colab": {
          "base_uri": "https://localhost:8080/",
          "height": 194
        },
        "id": "uzLJrCCzS7yM",
        "outputId": "c391def0-549d-47a6-83c1-0e879f7a0248"
      },
      "source": [
        "abalone = pd.read_csv('../data/abalone_preprocessed.csv', index_col=0)\n",
        "abalone.head()"
      ],
      "execution_count": null,
      "outputs": [
        {
          "output_type": "execute_result",
          "data": {
            "text/html": [
              "<div>\n",
              "<style scoped>\n",
              "    .dataframe tbody tr th:only-of-type {\n",
              "        vertical-align: middle;\n",
              "    }\n",
              "\n",
              "    .dataframe tbody tr th {\n",
              "        vertical-align: top;\n",
              "    }\n",
              "\n",
              "    .dataframe thead th {\n",
              "        text-align: right;\n",
              "    }\n",
              "</style>\n",
              "<table border=\"1\" class=\"dataframe\">\n",
              "  <thead>\n",
              "    <tr style=\"text-align: right;\">\n",
              "      <th></th>\n",
              "      <th>Female</th>\n",
              "      <th>Infant</th>\n",
              "      <th>Male</th>\n",
              "      <th>Length</th>\n",
              "      <th>Diameter</th>\n",
              "      <th>Height</th>\n",
              "      <th>Whole weight</th>\n",
              "      <th>Shucked weight</th>\n",
              "      <th>Viscera weight</th>\n",
              "      <th>Shell weight</th>\n",
              "      <th>Rings</th>\n",
              "    </tr>\n",
              "  </thead>\n",
              "  <tbody>\n",
              "    <tr>\n",
              "      <th>0</th>\n",
              "      <td>0.0</td>\n",
              "      <td>0.0</td>\n",
              "      <td>1.0</td>\n",
              "      <td>0.455</td>\n",
              "      <td>0.365</td>\n",
              "      <td>0.095</td>\n",
              "      <td>0.5140</td>\n",
              "      <td>0.2245</td>\n",
              "      <td>0.1010</td>\n",
              "      <td>0.150</td>\n",
              "      <td>15</td>\n",
              "    </tr>\n",
              "    <tr>\n",
              "      <th>1</th>\n",
              "      <td>0.0</td>\n",
              "      <td>0.0</td>\n",
              "      <td>1.0</td>\n",
              "      <td>0.350</td>\n",
              "      <td>0.265</td>\n",
              "      <td>0.090</td>\n",
              "      <td>0.2255</td>\n",
              "      <td>0.0995</td>\n",
              "      <td>0.0485</td>\n",
              "      <td>0.070</td>\n",
              "      <td>7</td>\n",
              "    </tr>\n",
              "    <tr>\n",
              "      <th>2</th>\n",
              "      <td>1.0</td>\n",
              "      <td>0.0</td>\n",
              "      <td>0.0</td>\n",
              "      <td>0.530</td>\n",
              "      <td>0.420</td>\n",
              "      <td>0.135</td>\n",
              "      <td>0.6770</td>\n",
              "      <td>0.2565</td>\n",
              "      <td>0.1415</td>\n",
              "      <td>0.210</td>\n",
              "      <td>9</td>\n",
              "    </tr>\n",
              "    <tr>\n",
              "      <th>3</th>\n",
              "      <td>0.0</td>\n",
              "      <td>0.0</td>\n",
              "      <td>1.0</td>\n",
              "      <td>0.440</td>\n",
              "      <td>0.365</td>\n",
              "      <td>0.125</td>\n",
              "      <td>0.5160</td>\n",
              "      <td>0.2155</td>\n",
              "      <td>0.1140</td>\n",
              "      <td>0.155</td>\n",
              "      <td>10</td>\n",
              "    </tr>\n",
              "    <tr>\n",
              "      <th>4</th>\n",
              "      <td>0.0</td>\n",
              "      <td>1.0</td>\n",
              "      <td>0.0</td>\n",
              "      <td>0.330</td>\n",
              "      <td>0.255</td>\n",
              "      <td>0.080</td>\n",
              "      <td>0.2050</td>\n",
              "      <td>0.0895</td>\n",
              "      <td>0.0395</td>\n",
              "      <td>0.055</td>\n",
              "      <td>7</td>\n",
              "    </tr>\n",
              "  </tbody>\n",
              "</table>\n",
              "</div>"
            ],
            "text/plain": [
              "   Female  Infant  Male  ...  Viscera weight  Shell weight  Rings\n",
              "0     0.0     0.0   1.0  ...          0.1010         0.150     15\n",
              "1     0.0     0.0   1.0  ...          0.0485         0.070      7\n",
              "2     1.0     0.0   0.0  ...          0.1415         0.210      9\n",
              "3     0.0     0.0   1.0  ...          0.1140         0.155     10\n",
              "4     0.0     1.0   0.0  ...          0.0395         0.055      7\n",
              "\n",
              "[5 rows x 11 columns]"
            ]
          },
          "metadata": {
            "tags": []
          },
          "execution_count": 2
        }
      ]
    },
    {
      "cell_type": "code",
      "metadata": {
        "id": "cZY0yhqmTawC"
      },
      "source": [
        "X_cat = abalone[['Female','Infant', 'Male']]\n",
        "y = pd.DataFrame(abalone.iloc[:,-1])\n",
        "X_real = abalone.iloc[:, 3:-1]"
      ],
      "execution_count": null,
      "outputs": []
    },
    {
      "cell_type": "code",
      "metadata": {
        "id": "i1QV2gJNTgH8"
      },
      "source": [
        "for i in range(len(y)):\n",
        "  if(y['Rings'][i] < 8):\n",
        "    y['Rings'][i] = \"young\"\n",
        "  elif(y['Rings'][i] < 12):\n",
        "    y['Rings'][i] = \"middle\"\n",
        "  else:\n",
        "    y['Rings'][i] = \"old\""
      ],
      "execution_count": null,
      "outputs": []
    },
    {
      "cell_type": "code",
      "metadata": {
        "id": "lwUjjiQ0TiYm"
      },
      "source": [
        "(X_real_train, X_real_test, y_train, y_test) =  train_test_split(X_real, y, test_size = 0.2, random_state = 0)\n",
        "\n",
        "(X_cat_train, X_cat_test) = train_test_split(X_cat, test_size=0.2, random_state = 0)"
      ],
      "execution_count": null,
      "outputs": []
    },
    {
      "cell_type": "code",
      "metadata": {
        "id": "eBI-9AwcT1RH"
      },
      "source": [
        "scaler = StandardScaler()\n",
        "scaler.fit(X_real_train, y_train)\n",
        "X_real_train_scaled = scaler.transform(X_real_train)\n",
        "X_real_test_scaled = scaler.transform(X_real_test)"
      ],
      "execution_count": null,
      "outputs": []
    },
    {
      "cell_type": "code",
      "metadata": {
        "id": "HjkeEgrxT76O"
      },
      "source": [
        "X_cat_train = pd.DataFrame(X_cat_train)\n",
        "X_cat_test = pd.DataFrame(X_cat_test)\n",
        "\n",
        "X_real_train_scaled = pd.DataFrame(X_real_train_scaled)\n",
        "X_real_test_scaled = pd.DataFrame(X_real_test_scaled)\n",
        "\n",
        "X_cat_train.index = X_real_train_scaled.index\n",
        "X_train = pd.concat([X_real_train_scaled, X_cat_train], axis=1)\n",
        "\n",
        "X_cat_test.index = X_real_test_scaled.index\n",
        "X_test = pd.concat([X_real_test_scaled, X_cat_test], axis=1)"
      ],
      "execution_count": null,
      "outputs": []
    },
    {
      "cell_type": "markdown",
      "metadata": {
        "id": "dWx_uoyOXSbJ"
      },
      "source": [
        "## Обучение модели"
      ]
    },
    {
      "cell_type": "markdown",
      "metadata": {
        "id": "6aO2emeMXYK-"
      },
      "source": [
        "В качестве базового алгоритма используем метод опорных векторов, потому что он лучше всего показал себя на этой выборке. Используем лучшие параметры полученные в лабораторной работе № 2.\n",
        "\n"
      ]
    },
    {
      "cell_type": "code",
      "metadata": {
        "colab": {
          "base_uri": "https://localhost:8080/"
        },
        "id": "Jxkw8lEsT94w",
        "outputId": "fe50992f-7890-41f5-9cbf-b7e5943a72a2"
      },
      "source": [
        "svm = SVC(C = 1000, gamma = 0.01)\n",
        "svm.fit(X_train, y_train)\n",
        "y_pred_svm = svm.predict(X_test)\n",
        "print(metrics.confusion_matrix(y_test, y_pred_svm))\n",
        "print(metrics.classification_report(y_test, y_pred_svm))"
      ],
      "execution_count": null,
      "outputs": [
        {
          "output_type": "stream",
          "text": [
            "/usr/local/lib/python3.7/dist-packages/sklearn/utils/validation.py:760: DataConversionWarning: A column-vector y was passed when a 1d array was expected. Please change the shape of y to (n_samples, ), for example using ravel().\n",
            "  y = column_or_1d(y, warn=True)\n"
          ],
          "name": "stderr"
        },
        {
          "output_type": "stream",
          "text": [
            "[[391  27  24]\n",
            " [107  92   1]\n",
            " [ 56   0 138]]\n",
            "              precision    recall  f1-score   support\n",
            "\n",
            "      middle       0.71      0.88      0.79       442\n",
            "         old       0.77      0.46      0.58       200\n",
            "       young       0.85      0.71      0.77       194\n",
            "\n",
            "    accuracy                           0.74       836\n",
            "   macro avg       0.78      0.69      0.71       836\n",
            "weighted avg       0.75      0.74      0.73       836\n",
            "\n"
          ],
          "name": "stdout"
        }
      ]
    },
    {
      "cell_type": "markdown",
      "metadata": {
        "id": "tWkXYwj1Yvms"
      },
      "source": [
        "## Обучение композиций"
      ]
    },
    {
      "cell_type": "markdown",
      "metadata": {
        "id": "S1ao81WYY4_X"
      },
      "source": [
        "### Бэггинг"
      ]
    },
    {
      "cell_type": "code",
      "metadata": {
        "colab": {
          "base_uri": "https://localhost:8080/"
        },
        "id": "Eqz4HoeTY9q3",
        "outputId": "3633ac0b-d4a4-40c2-8671-6a168e814d9e"
      },
      "source": [
        "%%time\n",
        "bagging = ensemble.BaggingClassifier(svm,n_jobs = -1)\n",
        "bagging.fit(X_train, y_train)\n",
        "pred_bagging = bagging.predict(X_test)\n",
        "print(metrics.confusion_matrix(y_test, pred_bagging))\n",
        "print(metrics.classification_report(y_test, pred_bagging))"
      ],
      "execution_count": null,
      "outputs": [
        {
          "output_type": "stream",
          "text": [
            "/usr/local/lib/python3.7/dist-packages/sklearn/ensemble/_bagging.py:645: DataConversionWarning: A column-vector y was passed when a 1d array was expected. Please change the shape of y to (n_samples, ), for example using ravel().\n",
            "  y = column_or_1d(y, warn=True)\n"
          ],
          "name": "stderr"
        },
        {
          "output_type": "stream",
          "text": [
            "[[394  25  23]\n",
            " [107  92   1]\n",
            " [ 57   0 137]]\n",
            "              precision    recall  f1-score   support\n",
            "\n",
            "      middle       0.71      0.89      0.79       442\n",
            "         old       0.79      0.46      0.58       200\n",
            "       young       0.85      0.71      0.77       194\n",
            "\n",
            "    accuracy                           0.75       836\n",
            "   macro avg       0.78      0.69      0.71       836\n",
            "weighted avg       0.76      0.75      0.73       836\n",
            "\n",
            "CPU times: user 59 ms, sys: 2.91 ms, total: 61.9 ms\n",
            "Wall time: 3.77 s\n"
          ],
          "name": "stdout"
        }
      ]
    },
    {
      "cell_type": "markdown",
      "metadata": {
        "id": "Z2rj5FufbdrD"
      },
      "source": [
        "Подберём параметры бэггинга по сетке с помощью GridSearchCV."
      ]
    },
    {
      "cell_type": "code",
      "metadata": {
        "id": "841sM1lYbO2o"
      },
      "source": [
        "bagging_parameters_grid = { 'n_estimators' : [1, 5, 10, 50, 100],\n",
        "                           'max_features' : range(1,10,1)\n",
        "    \n",
        "}"
      ],
      "execution_count": null,
      "outputs": []
    },
    {
      "cell_type": "code",
      "metadata": {
        "colab": {
          "base_uri": "https://localhost:8080/"
        },
        "id": "urGvD3U9fP15",
        "outputId": "730bda3a-2642-4da6-c9a5-995203dba4d9"
      },
      "source": [
        "bagging_grid = GridSearchCV(bagging, bagging_parameters_grid,\n",
        "                        cv=5, n_jobs=-1, verbose=True)\n",
        "bagging_grid.fit(X_train, y_train)\n",
        "bagging_grid.best_params_, bagging_grid.best_score_"
      ],
      "execution_count": null,
      "outputs": [
        {
          "output_type": "stream",
          "text": [
            "Fitting 5 folds for each of 45 candidates, totalling 225 fits\n"
          ],
          "name": "stdout"
        },
        {
          "output_type": "stream",
          "text": [
            "[Parallel(n_jobs=-1)]: Using backend LokyBackend with 2 concurrent workers.\n",
            "[Parallel(n_jobs=-1)]: Done  46 tasks      | elapsed:  8.5min\n",
            "[Parallel(n_jobs=-1)]: Done 196 tasks      | elapsed: 33.8min\n",
            "[Parallel(n_jobs=-1)]: Done 225 out of 225 | elapsed: 38.1min finished\n",
            "/usr/local/lib/python3.7/dist-packages/sklearn/ensemble/_bagging.py:645: DataConversionWarning: A column-vector y was passed when a 1d array was expected. Please change the shape of y to (n_samples, ), for example using ravel().\n",
            "  y = column_or_1d(y, warn=True)\n"
          ],
          "name": "stderr"
        },
        {
          "output_type": "execute_result",
          "data": {
            "text/plain": [
              "({'max_features': 9, 'n_estimators': 100}, 0.7530691979270159)"
            ]
          },
          "metadata": {
            "tags": []
          },
          "execution_count": 32
        }
      ]
    },
    {
      "cell_type": "markdown",
      "metadata": {
        "id": "VRaVowqcFCtk"
      },
      "source": [
        "Точность немного улучшилась, но на поиск параметров ушло очень много времени."
      ]
    },
    {
      "cell_type": "markdown",
      "metadata": {
        "id": "VpQKeUwqr9eS"
      },
      "source": [
        "### Бустинг"
      ]
    },
    {
      "cell_type": "code",
      "metadata": {
        "colab": {
          "base_uri": "https://localhost:8080/"
        },
        "id": "iNNzTdXgsCNb",
        "outputId": "e286d2f9-294e-4ad6-a60a-9df206f38b59"
      },
      "source": [
        "%%time\n",
        "boosting = ensemble.GradientBoostingClassifier()\n",
        "boosting.fit(X_train, y_train)\n",
        "pred_boosting = boosting.predict(X_test)\n",
        "print(metrics.confusion_matrix(y_test, pred_boosting))\n",
        "print(metrics.classification_report(y_test, pred_boosting))"
      ],
      "execution_count": null,
      "outputs": [
        {
          "output_type": "stream",
          "text": [
            "/usr/local/lib/python3.7/dist-packages/sklearn/ensemble/_gb.py:1454: DataConversionWarning: A column-vector y was passed when a 1d array was expected. Please change the shape of y to (n_samples, ), for example using ravel().\n",
            "  y = column_or_1d(y, warn=True)\n"
          ],
          "name": "stderr"
        },
        {
          "output_type": "stream",
          "text": [
            "[[380  36  26]\n",
            " [101  98   1]\n",
            " [ 55   0 139]]\n",
            "              precision    recall  f1-score   support\n",
            "\n",
            "      middle       0.71      0.86      0.78       442\n",
            "         old       0.73      0.49      0.59       200\n",
            "       young       0.84      0.72      0.77       194\n",
            "\n",
            "    accuracy                           0.74       836\n",
            "   macro avg       0.76      0.69      0.71       836\n",
            "weighted avg       0.74      0.74      0.73       836\n",
            "\n",
            "CPU times: user 2.19 s, sys: 0 ns, total: 2.19 s\n",
            "Wall time: 2.2 s\n"
          ],
          "name": "stdout"
        }
      ]
    },
    {
      "cell_type": "code",
      "metadata": {
        "id": "l8FQpSOGxpdk"
      },
      "source": [
        "boosting_parameters_grid = { 'learning_rate' : np.arange(0.1, 0.8, 0.1),\n",
        "                           'n_estimators' : [10, 50, 100],\n",
        "                            'max_depth' : range(1,10,1)\n",
        "\n",
        "}"
      ],
      "execution_count": null,
      "outputs": []
    },
    {
      "cell_type": "code",
      "metadata": {
        "colab": {
          "base_uri": "https://localhost:8080/"
        },
        "id": "Ws-SFfxk0JAx",
        "outputId": "0b144eca-54c0-4abd-d827-622cd3560860"
      },
      "source": [
        "boosting_grid = GridSearchCV(boosting, boosting_parameters_grid,\n",
        "                        cv=5, n_jobs=-1, verbose=True)\n",
        "boosting_grid.fit(X_train, y_train)\n",
        "boosting_grid.best_params_, boosting_grid.best_score_"
      ],
      "execution_count": null,
      "outputs": [
        {
          "output_type": "stream",
          "text": [
            "Fitting 5 folds for each of 189 candidates, totalling 945 fits\n"
          ],
          "name": "stdout"
        },
        {
          "output_type": "stream",
          "text": [
            "[Parallel(n_jobs=-1)]: Using backend LokyBackend with 2 concurrent workers.\n",
            "[Parallel(n_jobs=-1)]: Done  54 tasks      | elapsed:   28.3s\n",
            "[Parallel(n_jobs=-1)]: Done 204 tasks      | elapsed:  3.4min\n",
            "[Parallel(n_jobs=-1)]: Done 454 tasks      | elapsed:  8.4min\n",
            "[Parallel(n_jobs=-1)]: Done 804 tasks      | elapsed: 15.2min\n",
            "[Parallel(n_jobs=-1)]: Done 945 out of 945 | elapsed: 17.7min finished\n",
            "/usr/local/lib/python3.7/dist-packages/sklearn/ensemble/_gb.py:1454: DataConversionWarning: A column-vector y was passed when a 1d array was expected. Please change the shape of y to (n_samples, ), for example using ravel().\n",
            "  y = column_or_1d(y, warn=True)\n"
          ],
          "name": "stderr"
        },
        {
          "output_type": "execute_result",
          "data": {
            "text/plain": [
              "({'learning_rate': 0.30000000000000004, 'max_depth': 2, 'n_estimators': 50},\n",
              " 0.7461825228466834)"
            ]
          },
          "metadata": {
            "tags": []
          },
          "execution_count": 44
        }
      ]
    },
    {
      "cell_type": "markdown",
      "metadata": {
        "id": "_iM-VSAZMnt0"
      },
      "source": [
        "Результат не изменился"
      ]
    },
    {
      "cell_type": "markdown",
      "metadata": {
        "id": "OB9bZmOe0ood"
      },
      "source": [
        "### Стекинг"
      ]
    },
    {
      "cell_type": "code",
      "metadata": {
        "id": "vz3PP9QzPWLc"
      },
      "source": [
        "estimators = [\n",
        "('svm', SVC()),\n",
        "('knn', KNeighborsClassifier(algorithm = 'brute',metric = 'manhattan', n_neighbors = 9))\n",
        "]"
      ],
      "execution_count": null,
      "outputs": []
    },
    {
      "cell_type": "code",
      "metadata": {
        "colab": {
          "base_uri": "https://localhost:8080/"
        },
        "id": "eLqY-FB602G7",
        "outputId": "213f131c-ca6d-4517-90ac-32121773faa9"
      },
      "source": [
        "%%time\n",
        "stacking = ensemble.StackingClassifier(estimators=estimators)\n",
        "stacking.fit(X_train, y_train)\n",
        "pred_stacking = stacking.predict(X_test)\n",
        "print(metrics.confusion_matrix(y_test, pred_stacking))\n",
        "print(metrics.classification_report(y_test, pred_stacking))"
      ],
      "execution_count": null,
      "outputs": [
        {
          "output_type": "stream",
          "text": [
            "/usr/local/lib/python3.7/dist-packages/sklearn/preprocessing/_label.py:235: DataConversionWarning: A column-vector y was passed when a 1d array was expected. Please change the shape of y to (n_samples, ), for example using ravel().\n",
            "  y = column_or_1d(y, warn=True)\n",
            "/usr/local/lib/python3.7/dist-packages/sklearn/preprocessing/_label.py:268: DataConversionWarning: A column-vector y was passed when a 1d array was expected. Please change the shape of y to (n_samples, ), for example using ravel().\n",
            "  y = column_or_1d(y, warn=True)\n"
          ],
          "name": "stderr"
        },
        {
          "output_type": "stream",
          "text": [
            "[[387  29  26]\n",
            " [110  88   2]\n",
            " [ 56   0 138]]\n",
            "              precision    recall  f1-score   support\n",
            "\n",
            "      middle       0.70      0.88      0.78       442\n",
            "         old       0.75      0.44      0.56       200\n",
            "       young       0.83      0.71      0.77       194\n",
            "\n",
            "    accuracy                           0.73       836\n",
            "   macro avg       0.76      0.68      0.70       836\n",
            "weighted avg       0.74      0.73      0.72       836\n",
            "\n",
            "CPU times: user 2.08 s, sys: 11.7 ms, total: 2.1 s\n",
            "Wall time: 2.11 s\n"
          ],
          "name": "stdout"
        },
        {
          "output_type": "stream",
          "text": [
            "/usr/local/lib/python3.7/dist-packages/sklearn/linear_model/_logistic.py:940: ConvergenceWarning: lbfgs failed to converge (status=1):\n",
            "STOP: TOTAL NO. of ITERATIONS REACHED LIMIT.\n",
            "\n",
            "Increase the number of iterations (max_iter) or scale the data as shown in:\n",
            "    https://scikit-learn.org/stable/modules/preprocessing.html\n",
            "Please also refer to the documentation for alternative solver options:\n",
            "    https://scikit-learn.org/stable/modules/linear_model.html#logistic-regression\n",
            "  extra_warning_msg=_LOGISTIC_SOLVER_CONVERGENCE_MSG)\n"
          ],
          "name": "stderr"
        }
      ]
    },
    {
      "cell_type": "code",
      "metadata": {
        "id": "Qufli7ox1M0x"
      },
      "source": [
        "stacking_parameters_grid = { 'stack_method' : ['auto', 'pred_proba', 'solution_function', 'predict'],\n",
        "                            'cv' : [1, 3, 5, 7, 9]\n",
        "    \n",
        "}"
      ],
      "execution_count": null,
      "outputs": []
    },
    {
      "cell_type": "code",
      "metadata": {
        "colab": {
          "base_uri": "https://localhost:8080/"
        },
        "id": "5NSx2sXv9Xqt",
        "outputId": "17754ee4-3fe9-48c6-8d4c-cd896ed3ee9c"
      },
      "source": [
        "stacking_grid = GridSearchCV(stacking, stacking_parameters_grid,\n",
        "                        cv=5, n_jobs=-1, verbose=True)\n",
        "stacking_grid.fit(X_train, y_train)\n",
        "stacking_grid.best_params_, stacking_grid.best_score_"
      ],
      "execution_count": null,
      "outputs": [
        {
          "output_type": "stream",
          "text": [
            "Fitting 5 folds for each of 20 candidates, totalling 100 fits\n"
          ],
          "name": "stdout"
        },
        {
          "output_type": "stream",
          "text": [
            "[Parallel(n_jobs=-1)]: Using backend LokyBackend with 2 concurrent workers.\n",
            "[Parallel(n_jobs=-1)]: Done  46 tasks      | elapsed:   18.9s\n",
            "[Parallel(n_jobs=-1)]: Done 100 out of 100 | elapsed:  1.0min finished\n",
            "/usr/local/lib/python3.7/dist-packages/sklearn/preprocessing/_label.py:235: DataConversionWarning: A column-vector y was passed when a 1d array was expected. Please change the shape of y to (n_samples, ), for example using ravel().\n",
            "  y = column_or_1d(y, warn=True)\n",
            "/usr/local/lib/python3.7/dist-packages/sklearn/preprocessing/_label.py:268: DataConversionWarning: A column-vector y was passed when a 1d array was expected. Please change the shape of y to (n_samples, ), for example using ravel().\n",
            "  y = column_or_1d(y, warn=True)\n",
            "/usr/local/lib/python3.7/dist-packages/sklearn/linear_model/_logistic.py:940: ConvergenceWarning: lbfgs failed to converge (status=1):\n",
            "STOP: TOTAL NO. of ITERATIONS REACHED LIMIT.\n",
            "\n",
            "Increase the number of iterations (max_iter) or scale the data as shown in:\n",
            "    https://scikit-learn.org/stable/modules/preprocessing.html\n",
            "Please also refer to the documentation for alternative solver options:\n",
            "    https://scikit-learn.org/stable/modules/linear_model.html#logistic-regression\n",
            "  extra_warning_msg=_LOGISTIC_SOLVER_CONVERGENCE_MSG)\n"
          ],
          "name": "stderr"
        },
        {
          "output_type": "execute_result",
          "data": {
            "text/plain": [
              "({'cv': 3, 'stack_method': 'auto'}, 0.7405006131235288)"
            ]
          },
          "metadata": {
            "tags": []
          },
          "execution_count": 54
        }
      ]
    },
    {
      "cell_type": "markdown",
      "metadata": {
        "id": "N9cbTW1ZSDsf"
      },
      "source": [
        "После подбора параметров композиция оказалась немного хуже остальных, но быстрее. "
      ]
    },
    {
      "cell_type": "markdown",
      "metadata": {
        "id": "fsozGt6FTGHv"
      },
      "source": [
        "Лучшей композицией оказался бэггинг."
      ]
    },
    {
      "cell_type": "markdown",
      "metadata": {
        "id": "M_W1SwqN4s82"
      },
      "source": [
        "# Композиции модели для задачи регрессии"
      ]
    },
    {
      "cell_type": "markdown",
      "metadata": {
        "id": "MZudYwx643WA"
      },
      "source": [
        "## Подготовка данных"
      ]
    },
    {
      "cell_type": "code",
      "metadata": {
        "colab": {
          "base_uri": "https://localhost:8080/",
          "height": 194
        },
        "id": "3Ehfh-d346bS",
        "outputId": "8c397b66-b73f-4428-fefa-c5b90658e538"
      },
      "source": [
        "concrete = pd.read_csv('../data/concrete_preprocessed.csv',index_col=0)\n",
        "concrete.head()"
      ],
      "execution_count": null,
      "outputs": [
        {
          "output_type": "execute_result",
          "data": {
            "text/html": [
              "<div>\n",
              "<style scoped>\n",
              "    .dataframe tbody tr th:only-of-type {\n",
              "        vertical-align: middle;\n",
              "    }\n",
              "\n",
              "    .dataframe tbody tr th {\n",
              "        vertical-align: top;\n",
              "    }\n",
              "\n",
              "    .dataframe thead th {\n",
              "        text-align: right;\n",
              "    }\n",
              "</style>\n",
              "<table border=\"1\" class=\"dataframe\">\n",
              "  <thead>\n",
              "    <tr style=\"text-align: right;\">\n",
              "      <th></th>\n",
              "      <th>Cement</th>\n",
              "      <th>Blast Furnace Slag</th>\n",
              "      <th>Fly Ash</th>\n",
              "      <th>Water</th>\n",
              "      <th>Superplasticizer</th>\n",
              "      <th>Coarse Aggregate</th>\n",
              "      <th>Fine Aggregate</th>\n",
              "      <th>Age</th>\n",
              "      <th>Concrete compressive strength</th>\n",
              "    </tr>\n",
              "  </thead>\n",
              "  <tbody>\n",
              "    <tr>\n",
              "      <th>0</th>\n",
              "      <td>540.0</td>\n",
              "      <td>0.0</td>\n",
              "      <td>0.0</td>\n",
              "      <td>162.0</td>\n",
              "      <td>2.5</td>\n",
              "      <td>1040.0</td>\n",
              "      <td>676.0</td>\n",
              "      <td>28</td>\n",
              "      <td>79.986111</td>\n",
              "    </tr>\n",
              "    <tr>\n",
              "      <th>1</th>\n",
              "      <td>540.0</td>\n",
              "      <td>0.0</td>\n",
              "      <td>0.0</td>\n",
              "      <td>162.0</td>\n",
              "      <td>2.5</td>\n",
              "      <td>1055.0</td>\n",
              "      <td>676.0</td>\n",
              "      <td>28</td>\n",
              "      <td>61.887366</td>\n",
              "    </tr>\n",
              "    <tr>\n",
              "      <th>2</th>\n",
              "      <td>332.5</td>\n",
              "      <td>142.5</td>\n",
              "      <td>0.0</td>\n",
              "      <td>228.0</td>\n",
              "      <td>0.0</td>\n",
              "      <td>932.0</td>\n",
              "      <td>594.0</td>\n",
              "      <td>270</td>\n",
              "      <td>40.269535</td>\n",
              "    </tr>\n",
              "    <tr>\n",
              "      <th>3</th>\n",
              "      <td>332.5</td>\n",
              "      <td>142.5</td>\n",
              "      <td>0.0</td>\n",
              "      <td>228.0</td>\n",
              "      <td>0.0</td>\n",
              "      <td>932.0</td>\n",
              "      <td>594.0</td>\n",
              "      <td>365</td>\n",
              "      <td>41.052780</td>\n",
              "    </tr>\n",
              "    <tr>\n",
              "      <th>4</th>\n",
              "      <td>198.6</td>\n",
              "      <td>132.4</td>\n",
              "      <td>0.0</td>\n",
              "      <td>192.0</td>\n",
              "      <td>0.0</td>\n",
              "      <td>978.4</td>\n",
              "      <td>825.5</td>\n",
              "      <td>360</td>\n",
              "      <td>44.296075</td>\n",
              "    </tr>\n",
              "  </tbody>\n",
              "</table>\n",
              "</div>"
            ],
            "text/plain": [
              "   Cement  Blast Furnace Slag  ...  Age  Concrete compressive strength\n",
              "0   540.0                 0.0  ...   28                      79.986111\n",
              "1   540.0                 0.0  ...   28                      61.887366\n",
              "2   332.5               142.5  ...  270                      40.269535\n",
              "3   332.5               142.5  ...  365                      41.052780\n",
              "4   198.6               132.4  ...  360                      44.296075\n",
              "\n",
              "[5 rows x 9 columns]"
            ]
          },
          "metadata": {
            "tags": []
          },
          "execution_count": 56
        }
      ]
    },
    {
      "cell_type": "code",
      "metadata": {
        "id": "j4Zcbu5k5DU2"
      },
      "source": [
        "X_reg = concrete.iloc[:,:-1]\n",
        "y_reg = concrete.iloc[:,-1]"
      ],
      "execution_count": null,
      "outputs": []
    },
    {
      "cell_type": "code",
      "metadata": {
        "id": "bjr_gJJw5IaO"
      },
      "source": [
        "(X_reg_train, X_reg_test, y_reg_train, y_reg_test) = train_test_split(X_reg, y_reg,test_size = 0.2, random_state = 0)"
      ],
      "execution_count": null,
      "outputs": []
    },
    {
      "cell_type": "markdown",
      "metadata": {
        "id": "_P6JOE7q5ZnN"
      },
      "source": [
        "## Обучение модели"
      ]
    },
    {
      "cell_type": "code",
      "metadata": {
        "colab": {
          "base_uri": "https://localhost:8080/"
        },
        "id": "FBN9nVD05Q9-",
        "outputId": "9be27ddb-f47c-48ec-ab95-54612d0b68d6"
      },
      "source": [
        "dtr = DecisionTreeRegressor()\n",
        "dtr.fit(X_reg_train, y_reg_train)\n",
        "pred_dtr = dtr.predict(X_reg_test)\n",
        "print(metrics.r2_score(y_reg_test, pred_dtr))\n",
        "print(metrics.mean_squared_error(y_reg_test, pred_dtr))\n",
        "print(metrics.mean_squared_error(y_reg_test, pred_dtr, squared=False))\n",
        "print(metrics.mean_absolute_error(y_reg_test, pred_dtr))"
      ],
      "execution_count": null,
      "outputs": [
        {
          "output_type": "stream",
          "text": [
            "0.7943173365261431\n",
            "54.17358308956216\n",
            "7.360270585349574\n",
            "4.620425395581611\n"
          ],
          "name": "stdout"
        }
      ]
    },
    {
      "cell_type": "markdown",
      "metadata": {
        "id": "YOUf5Yyu5ky3"
      },
      "source": [
        "## Обучение композиций"
      ]
    },
    {
      "cell_type": "markdown",
      "metadata": {
        "id": "lgMwy1rU5rHn"
      },
      "source": [
        "### Бэггинг"
      ]
    },
    {
      "cell_type": "code",
      "metadata": {
        "colab": {
          "base_uri": "https://localhost:8080/"
        },
        "id": "4CaxSj4I5vdq",
        "outputId": "40807f8e-7d49-4e29-b806-1cc1182038ff"
      },
      "source": [
        "%%time\n",
        "bagging_reg = ensemble.BaggingRegressor(dtr)\n",
        "bagging_reg.fit(X_reg_train, y_reg_train)\n",
        "pred_bagging_reg = bagging_reg.predict(X_reg_test)\n",
        "print(metrics.r2_score(y_reg_test, pred_bagging_reg))\n",
        "print(metrics.mean_squared_error(y_reg_test, pred_bagging_reg))\n",
        "print(metrics.mean_squared_error(y_reg_test, pred_bagging_reg, squared=False))\n",
        "print(metrics.mean_absolute_error(y_reg_test, pred_bagging_reg))"
      ],
      "execution_count": null,
      "outputs": [
        {
          "output_type": "stream",
          "text": [
            "0.9075282330130774\n",
            "24.355611054897757\n",
            "4.93514042909599\n",
            "3.578909946739593\n",
            "CPU times: user 47.7 ms, sys: 1.01 ms, total: 48.7 ms\n",
            "Wall time: 50.6 ms\n"
          ],
          "name": "stdout"
        }
      ]
    },
    {
      "cell_type": "markdown",
      "metadata": {
        "id": "eRaKWnYkTbQE"
      },
      "source": [
        "После применения бэггинга со стандартными параметрами точность сильно увеличилась."
      ]
    },
    {
      "cell_type": "code",
      "metadata": {
        "id": "StZ2MQzo8Z1b"
      },
      "source": [
        "bagging_reg_parameters_grid = { 'n_estimators' : [5, 10, 50, 100],\n",
        "                               'max_samples' : range(1, 5, 1),\n",
        "                               'max_features' : range(1, 5, 1)\n",
        "}"
      ],
      "execution_count": null,
      "outputs": []
    },
    {
      "cell_type": "code",
      "metadata": {
        "colab": {
          "base_uri": "https://localhost:8080/"
        },
        "id": "b3Nmv7bh8lhS",
        "outputId": "98782561-000f-4ff5-8e14-5f19229f1a40"
      },
      "source": [
        "bagging_reg_grid = GridSearchCV(bagging_reg, bagging_reg_parameters_grid,\n",
        "                        cv=5, n_jobs=-1, verbose=True)\n",
        "bagging_reg_grid.fit(X_reg_train, y_reg_train)\n",
        "bagging_reg_grid.best_params_, bagging_reg_grid.best_score_"
      ],
      "execution_count": null,
      "outputs": [
        {
          "output_type": "stream",
          "text": [
            "Fitting 5 folds for each of 64 candidates, totalling 320 fits\n"
          ],
          "name": "stdout"
        },
        {
          "output_type": "stream",
          "text": [
            "[Parallel(n_jobs=-1)]: Using backend LokyBackend with 2 concurrent workers.\n",
            "[Parallel(n_jobs=-1)]: Done  92 tasks      | elapsed:    5.4s\n",
            "[Parallel(n_jobs=-1)]: Done 320 out of 320 | elapsed:   16.9s finished\n"
          ],
          "name": "stderr"
        },
        {
          "output_type": "execute_result",
          "data": {
            "text/plain": [
              "({'max_features': 4, 'max_samples': 4, 'n_estimators': 100},\n",
              " 0.25206120347450545)"
            ]
          },
          "metadata": {
            "tags": []
          },
          "execution_count": 72
        }
      ]
    },
    {
      "cell_type": "markdown",
      "metadata": {
        "id": "aoq2BKRfVPSZ"
      },
      "source": [
        "После подбора параметров точность очень сильно упала."
      ]
    },
    {
      "cell_type": "markdown",
      "metadata": {
        "id": "a_isNLHz-4DB"
      },
      "source": [
        "### Бустинг"
      ]
    },
    {
      "cell_type": "code",
      "metadata": {
        "colab": {
          "base_uri": "https://localhost:8080/"
        },
        "id": "uNGUUdx0-3TL",
        "outputId": "11833d93-fc3f-479a-d82b-89180ae8ce85"
      },
      "source": [
        "boosting_reg = ensemble.GradientBoostingRegressor()\n",
        "boosting_reg.fit(X_reg_train, y_reg_train)\n",
        "pred_boosting_reg = boosting_reg.predict(X_reg_test)\n",
        "print(metrics.r2_score(y_reg_test, pred_bagging_reg))\n",
        "print(metrics.mean_squared_error(y_reg_test, pred_boosting_reg))\n",
        "print(metrics.mean_squared_error(y_reg_test, pred_boosting_reg, squared=False))\n",
        "print(metrics.mean_absolute_error(y_reg_test, pred_boosting_reg))"
      ],
      "execution_count": null,
      "outputs": [
        {
          "output_type": "stream",
          "text": [
            "0.9075282330130774\n",
            "24.899702897420063\n",
            "4.989960210003689\n",
            "3.6653597825714797\n"
          ],
          "name": "stdout"
        }
      ]
    },
    {
      "cell_type": "markdown",
      "metadata": {
        "id": "a4KhTEQIV-On"
      },
      "source": [
        "Бустинг без параметров тоже сильно поднял точность."
      ]
    },
    {
      "cell_type": "code",
      "metadata": {
        "id": "jE3AhgA9_w6T"
      },
      "source": [
        "boosting_reg_parameters_grid = { 'loss' : ['ls', 'lad', 'huber', 'quantile'],\n",
        "                                'learning_rate' : np.arange(0.1, 0.8, 0.1),\n",
        "                                'n_estimators' : [10, 50, 100 , 500]\n",
        "}"
      ],
      "execution_count": null,
      "outputs": []
    },
    {
      "cell_type": "code",
      "metadata": {
        "colab": {
          "base_uri": "https://localhost:8080/"
        },
        "id": "2D9xtkDDEr4y",
        "outputId": "05826dfd-4306-4860-80c0-eede650d8d40"
      },
      "source": [
        "boosting_reg_grid = GridSearchCV(boosting_reg, boosting_reg_parameters_grid,\n",
        "                        cv=5, n_jobs=-1, verbose=True)\n",
        "boosting_reg_grid.fit(X_reg_train, y_reg_train)\n",
        "boosting_reg_grid.best_params_, boosting_reg_grid.best_score_"
      ],
      "execution_count": null,
      "outputs": [
        {
          "output_type": "stream",
          "text": [
            "Fitting 5 folds for each of 112 candidates, totalling 560 fits\n"
          ],
          "name": "stdout"
        },
        {
          "output_type": "stream",
          "text": [
            "[Parallel(n_jobs=-1)]: Using backend LokyBackend with 2 concurrent workers.\n",
            "[Parallel(n_jobs=-1)]: Done  46 tasks      | elapsed:   10.2s\n",
            "[Parallel(n_jobs=-1)]: Done 196 tasks      | elapsed:   50.1s\n",
            "[Parallel(n_jobs=-1)]: Done 446 tasks      | elapsed:  1.9min\n",
            "[Parallel(n_jobs=-1)]: Done 560 out of 560 | elapsed:  2.5min finished\n"
          ],
          "name": "stderr"
        },
        {
          "output_type": "execute_result",
          "data": {
            "text/plain": [
              "({'learning_rate': 0.2, 'loss': 'ls', 'n_estimators': 500}, 0.9278365432854425)"
            ]
          },
          "metadata": {
            "tags": []
          },
          "execution_count": 79
        }
      ]
    },
    {
      "cell_type": "markdown",
      "metadata": {
        "id": "LzVIxbcMXHUY"
      },
      "source": [
        "После подбора качество только возросло."
      ]
    },
    {
      "cell_type": "markdown",
      "metadata": {
        "id": "btwczttUFtZP"
      },
      "source": [
        "### Стекинг"
      ]
    },
    {
      "cell_type": "code",
      "metadata": {
        "id": "mv1_NDcjXQWr"
      },
      "source": [
        "estimators_reg = [\n",
        "  ('dtr', DecisionTreeRegressor()),\n",
        "  ('ridge', Ridge())\n",
        "]"
      ],
      "execution_count": null,
      "outputs": []
    },
    {
      "cell_type": "code",
      "metadata": {
        "colab": {
          "base_uri": "https://localhost:8080/"
        },
        "id": "BX2wjARDGM0e",
        "outputId": "90908820-8035-4149-a8cf-03c5dab25917"
      },
      "source": [
        "stacking_reg = ensemble.StackingRegressor(estimators=estimators_reg)\n",
        "stacking_reg.fit(X_reg_train, y_reg_train)\n",
        "pred_stacking_reg = stacking_reg.predict(X_reg_test)\n",
        "print(metrics.r2_score(y_reg_test, pred_stacking_reg))\n",
        "print(metrics.mean_squared_error(y_reg_test, pred_stacking_reg))\n",
        "print(metrics.mean_squared_error(y_reg_test, pred_stacking_reg, squared=False))\n",
        "print(metrics.mean_absolute_error(y_reg_test, pred_stacking_reg))"
      ],
      "execution_count": null,
      "outputs": [
        {
          "output_type": "stream",
          "text": [
            "0.8328967106716147\n",
            "44.01238187058505\n",
            "6.634182833671759\n",
            "4.402772531086011\n"
          ],
          "name": "stdout"
        }
      ]
    },
    {
      "cell_type": "code",
      "metadata": {
        "id": "QKcE6B3kI0VN"
      },
      "source": [
        "stacking_reg_parameters_grid = { 'cv' : [1, 3, 5, 7, 9]\n",
        "}"
      ],
      "execution_count": null,
      "outputs": []
    },
    {
      "cell_type": "code",
      "metadata": {
        "colab": {
          "base_uri": "https://localhost:8080/"
        },
        "id": "zuJVndS-JzCh",
        "outputId": "5fa93d8e-64e0-47d9-b9b4-7a7cb1a468af"
      },
      "source": [
        "stacking_reg_grid = GridSearchCV(stacking_reg, stacking_reg_parameters_grid,\n",
        "                        cv=5, n_jobs=-1, verbose=True)\n",
        "stacking_reg_grid.fit(X_reg_train, y_reg_train)\n",
        "stacking_reg_grid.best_params_, stacking_reg_grid.best_score_"
      ],
      "execution_count": null,
      "outputs": [
        {
          "output_type": "stream",
          "text": [
            "Fitting 5 folds for each of 5 candidates, totalling 25 fits\n"
          ],
          "name": "stdout"
        },
        {
          "output_type": "stream",
          "text": [
            "[Parallel(n_jobs=-1)]: Using backend LokyBackend with 2 concurrent workers.\n",
            "[Parallel(n_jobs=-1)]: Done  25 out of  25 | elapsed:    1.1s finished\n"
          ],
          "name": "stderr"
        },
        {
          "output_type": "execute_result",
          "data": {
            "text/plain": [
              "({'cv': 5}, 0.8585205885983207)"
            ]
          },
          "metadata": {
            "tags": []
          },
          "execution_count": 90
        }
      ]
    },
    {
      "cell_type": "markdown",
      "metadata": {
        "id": "A7DrIgZkYTNe"
      },
      "source": [
        "Стекинг показывает неплохой результат но отстаёт от остальных композиций."
      ]
    },
    {
      "cell_type": "markdown",
      "metadata": {
        "id": "khTssZr9Y2f5"
      },
      "source": [
        "Лучшей композицией оказался бустинг после подбора параметров."
      ]
    }
  ]
}