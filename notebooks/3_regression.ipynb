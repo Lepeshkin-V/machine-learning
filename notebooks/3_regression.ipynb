{
  "nbformat": 4,
  "nbformat_minor": 0,
  "metadata": {
    "colab": {
      "name": "3_regression.ipynb",
      "provenance": [],
      "toc_visible": true
    },
    "kernelspec": {
      "name": "python3",
      "display_name": "Python 3"
    }
  },
  "cells": [
    {
      "cell_type": "code",
      "metadata": {
        "id": "TSKkcMqVr4zZ"
      },
      "source": [
        "import pandas as pd\r\n",
        "import numpy as np\r\n",
        "from sklearn.model_selection import train_test_split\r\n",
        "from sklearn.linear_model import LinearRegression\r\n",
        "from sklearn.metrics import r2_score, mean_squared_error, mean_absolute_error\r\n",
        "from sklearn.preprocessing import StandardScaler\r\n",
        "from sklearn.tree import DecisionTreeRegressor\r\n",
        "from sklearn.model_selection import GridSearchCV\r\n",
        "from sklearn.linear_model import Lasso\r\n",
        "from sklearn.linear_model import Ridge\r\n",
        "from sklearn.linear_model import ElasticNet"
      ],
      "execution_count": 31,
      "outputs": []
    },
    {
      "cell_type": "code",
      "metadata": {
        "colab": {
          "base_uri": "https://localhost:8080/",
          "height": 194
        },
        "id": "RJRFjKoXs1yy",
        "outputId": "ca6413ce-64ff-4b6d-838d-88f722192838"
      },
      "source": [
        "concrete_frame = pd.read_csv('concrete_preprocessed.csv',index_col=0)\r\n",
        "concrete_frame.head()"
      ],
      "execution_count": 2,
      "outputs": [
        {
          "output_type": "execute_result",
          "data": {
            "text/html": [
              "<div>\n",
              "<style scoped>\n",
              "    .dataframe tbody tr th:only-of-type {\n",
              "        vertical-align: middle;\n",
              "    }\n",
              "\n",
              "    .dataframe tbody tr th {\n",
              "        vertical-align: top;\n",
              "    }\n",
              "\n",
              "    .dataframe thead th {\n",
              "        text-align: right;\n",
              "    }\n",
              "</style>\n",
              "<table border=\"1\" class=\"dataframe\">\n",
              "  <thead>\n",
              "    <tr style=\"text-align: right;\">\n",
              "      <th></th>\n",
              "      <th>Cement</th>\n",
              "      <th>Blast Furnace Slag</th>\n",
              "      <th>Fly Ash</th>\n",
              "      <th>Water</th>\n",
              "      <th>Superplasticizer</th>\n",
              "      <th>Coarse Aggregate</th>\n",
              "      <th>Fine Aggregate</th>\n",
              "      <th>Age</th>\n",
              "      <th>Concrete compressive strength</th>\n",
              "    </tr>\n",
              "  </thead>\n",
              "  <tbody>\n",
              "    <tr>\n",
              "      <th>0</th>\n",
              "      <td>540.0</td>\n",
              "      <td>0.0</td>\n",
              "      <td>0.0</td>\n",
              "      <td>162.0</td>\n",
              "      <td>2.5</td>\n",
              "      <td>1040.0</td>\n",
              "      <td>676.0</td>\n",
              "      <td>28</td>\n",
              "      <td>79.986111</td>\n",
              "    </tr>\n",
              "    <tr>\n",
              "      <th>1</th>\n",
              "      <td>540.0</td>\n",
              "      <td>0.0</td>\n",
              "      <td>0.0</td>\n",
              "      <td>162.0</td>\n",
              "      <td>2.5</td>\n",
              "      <td>1055.0</td>\n",
              "      <td>676.0</td>\n",
              "      <td>28</td>\n",
              "      <td>61.887366</td>\n",
              "    </tr>\n",
              "    <tr>\n",
              "      <th>2</th>\n",
              "      <td>332.5</td>\n",
              "      <td>142.5</td>\n",
              "      <td>0.0</td>\n",
              "      <td>228.0</td>\n",
              "      <td>0.0</td>\n",
              "      <td>932.0</td>\n",
              "      <td>594.0</td>\n",
              "      <td>270</td>\n",
              "      <td>40.269535</td>\n",
              "    </tr>\n",
              "    <tr>\n",
              "      <th>3</th>\n",
              "      <td>332.5</td>\n",
              "      <td>142.5</td>\n",
              "      <td>0.0</td>\n",
              "      <td>228.0</td>\n",
              "      <td>0.0</td>\n",
              "      <td>932.0</td>\n",
              "      <td>594.0</td>\n",
              "      <td>365</td>\n",
              "      <td>41.052780</td>\n",
              "    </tr>\n",
              "    <tr>\n",
              "      <th>4</th>\n",
              "      <td>198.6</td>\n",
              "      <td>132.4</td>\n",
              "      <td>0.0</td>\n",
              "      <td>192.0</td>\n",
              "      <td>0.0</td>\n",
              "      <td>978.4</td>\n",
              "      <td>825.5</td>\n",
              "      <td>360</td>\n",
              "      <td>44.296075</td>\n",
              "    </tr>\n",
              "  </tbody>\n",
              "</table>\n",
              "</div>"
            ],
            "text/plain": [
              "   Cement  Blast Furnace Slag  ...  Age  Concrete compressive strength\n",
              "0   540.0                 0.0  ...   28                      79.986111\n",
              "1   540.0                 0.0  ...   28                      61.887366\n",
              "2   332.5               142.5  ...  270                      40.269535\n",
              "3   332.5               142.5  ...  365                      41.052780\n",
              "4   198.6               132.4  ...  360                      44.296075\n",
              "\n",
              "[5 rows x 9 columns]"
            ]
          },
          "metadata": {
            "tags": []
          },
          "execution_count": 2
        }
      ]
    },
    {
      "cell_type": "code",
      "metadata": {
        "colab": {
          "base_uri": "https://localhost:8080/"
        },
        "id": "0ErogkzEudcb",
        "outputId": "ef95da13-6886-4542-f0a2-313e5af5f363"
      },
      "source": [
        "concrete_frame.info()"
      ],
      "execution_count": 3,
      "outputs": [
        {
          "output_type": "stream",
          "text": [
            "<class 'pandas.core.frame.DataFrame'>\n",
            "Int64Index: 1030 entries, 0 to 1029\n",
            "Data columns (total 9 columns):\n",
            " #   Column                         Non-Null Count  Dtype  \n",
            "---  ------                         --------------  -----  \n",
            " 0   Cement                         1030 non-null   float64\n",
            " 1   Blast Furnace Slag             1030 non-null   float64\n",
            " 2   Fly Ash                        1030 non-null   float64\n",
            " 3   Water                          1030 non-null   float64\n",
            " 4   Superplasticizer               1030 non-null   float64\n",
            " 5   Coarse Aggregate               1030 non-null   float64\n",
            " 6   Fine Aggregate                 1030 non-null   float64\n",
            " 7   Age                            1030 non-null   int64  \n",
            " 8   Concrete compressive strength  1030 non-null   float64\n",
            "dtypes: float64(8), int64(1)\n",
            "memory usage: 80.5 KB\n"
          ],
          "name": "stdout"
        }
      ]
    },
    {
      "cell_type": "code",
      "metadata": {
        "id": "UhCMyPWew_03"
      },
      "source": [
        "x = concrete_frame.iloc[:,:-1]\r\n",
        "y = concrete_frame.iloc[:,-1]"
      ],
      "execution_count": 4,
      "outputs": []
    },
    {
      "cell_type": "code",
      "metadata": {
        "colab": {
          "base_uri": "https://localhost:8080/",
          "height": 194
        },
        "id": "1_OMeyHcxM7Z",
        "outputId": "fe45028f-acd2-4413-f847-824773a82b08"
      },
      "source": [
        "x.head()"
      ],
      "execution_count": 5,
      "outputs": [
        {
          "output_type": "execute_result",
          "data": {
            "text/html": [
              "<div>\n",
              "<style scoped>\n",
              "    .dataframe tbody tr th:only-of-type {\n",
              "        vertical-align: middle;\n",
              "    }\n",
              "\n",
              "    .dataframe tbody tr th {\n",
              "        vertical-align: top;\n",
              "    }\n",
              "\n",
              "    .dataframe thead th {\n",
              "        text-align: right;\n",
              "    }\n",
              "</style>\n",
              "<table border=\"1\" class=\"dataframe\">\n",
              "  <thead>\n",
              "    <tr style=\"text-align: right;\">\n",
              "      <th></th>\n",
              "      <th>Cement</th>\n",
              "      <th>Blast Furnace Slag</th>\n",
              "      <th>Fly Ash</th>\n",
              "      <th>Water</th>\n",
              "      <th>Superplasticizer</th>\n",
              "      <th>Coarse Aggregate</th>\n",
              "      <th>Fine Aggregate</th>\n",
              "      <th>Age</th>\n",
              "    </tr>\n",
              "  </thead>\n",
              "  <tbody>\n",
              "    <tr>\n",
              "      <th>0</th>\n",
              "      <td>540.0</td>\n",
              "      <td>0.0</td>\n",
              "      <td>0.0</td>\n",
              "      <td>162.0</td>\n",
              "      <td>2.5</td>\n",
              "      <td>1040.0</td>\n",
              "      <td>676.0</td>\n",
              "      <td>28</td>\n",
              "    </tr>\n",
              "    <tr>\n",
              "      <th>1</th>\n",
              "      <td>540.0</td>\n",
              "      <td>0.0</td>\n",
              "      <td>0.0</td>\n",
              "      <td>162.0</td>\n",
              "      <td>2.5</td>\n",
              "      <td>1055.0</td>\n",
              "      <td>676.0</td>\n",
              "      <td>28</td>\n",
              "    </tr>\n",
              "    <tr>\n",
              "      <th>2</th>\n",
              "      <td>332.5</td>\n",
              "      <td>142.5</td>\n",
              "      <td>0.0</td>\n",
              "      <td>228.0</td>\n",
              "      <td>0.0</td>\n",
              "      <td>932.0</td>\n",
              "      <td>594.0</td>\n",
              "      <td>270</td>\n",
              "    </tr>\n",
              "    <tr>\n",
              "      <th>3</th>\n",
              "      <td>332.5</td>\n",
              "      <td>142.5</td>\n",
              "      <td>0.0</td>\n",
              "      <td>228.0</td>\n",
              "      <td>0.0</td>\n",
              "      <td>932.0</td>\n",
              "      <td>594.0</td>\n",
              "      <td>365</td>\n",
              "    </tr>\n",
              "    <tr>\n",
              "      <th>4</th>\n",
              "      <td>198.6</td>\n",
              "      <td>132.4</td>\n",
              "      <td>0.0</td>\n",
              "      <td>192.0</td>\n",
              "      <td>0.0</td>\n",
              "      <td>978.4</td>\n",
              "      <td>825.5</td>\n",
              "      <td>360</td>\n",
              "    </tr>\n",
              "  </tbody>\n",
              "</table>\n",
              "</div>"
            ],
            "text/plain": [
              "   Cement  Blast Furnace Slag  Fly Ash  ...  Coarse Aggregate  Fine Aggregate  Age\n",
              "0   540.0                 0.0      0.0  ...            1040.0           676.0   28\n",
              "1   540.0                 0.0      0.0  ...            1055.0           676.0   28\n",
              "2   332.5               142.5      0.0  ...             932.0           594.0  270\n",
              "3   332.5               142.5      0.0  ...             932.0           594.0  365\n",
              "4   198.6               132.4      0.0  ...             978.4           825.5  360\n",
              "\n",
              "[5 rows x 8 columns]"
            ]
          },
          "metadata": {
            "tags": []
          },
          "execution_count": 5
        }
      ]
    },
    {
      "cell_type": "code",
      "metadata": {
        "colab": {
          "base_uri": "https://localhost:8080/"
        },
        "id": "4d5aHdDuxll-",
        "outputId": "28c5a0e5-1209-4a78-baad-3de175a79e76"
      },
      "source": [
        "y.head()"
      ],
      "execution_count": 6,
      "outputs": [
        {
          "output_type": "execute_result",
          "data": {
            "text/plain": [
              "0    79.986111\n",
              "1    61.887366\n",
              "2    40.269535\n",
              "3    41.052780\n",
              "4    44.296075\n",
              "Name: Concrete compressive strength, dtype: float64"
            ]
          },
          "metadata": {
            "tags": []
          },
          "execution_count": 6
        }
      ]
    },
    {
      "cell_type": "code",
      "metadata": {
        "id": "v959u9m_6Muh"
      },
      "source": [
        "(x_train, x_test, y_train, y_test) = train_test_split(x, y,test_size = 0.2, random_state = 0)"
      ],
      "execution_count": 7,
      "outputs": []
    },
    {
      "cell_type": "code",
      "metadata": {
        "id": "OuGz5uC22-6p"
      },
      "source": [
        "scaler = StandardScaler()\r\n",
        "scaler.fit(x_train, y_train)\r\n",
        "x_train_scaled = scaler.transform(x_train)\r\n",
        "x_test_scaled = scaler.transform(x_test)"
      ],
      "execution_count": 8,
      "outputs": []
    },
    {
      "cell_type": "markdown",
      "metadata": {
        "id": "2uv34R1y5fXg"
      },
      "source": [
        "## Линейная регрессия\r\n",
        "\r\n",
        "Осуществляется с помощью sklearn.linear_model.LinearRegression.\r\n",
        "\r\n",
        "Ссылка на документацию: https://scikit-learn.org/stable/modules/generated/sklearn.linear_model.LinearRegression.html"
      ]
    },
    {
      "cell_type": "markdown",
      "metadata": {
        "id": "rtu5W44c6DqN"
      },
      "source": [
        "Обучаем регрессор LineatRegression"
      ]
    },
    {
      "cell_type": "code",
      "metadata": {
        "colab": {
          "base_uri": "https://localhost:8080/"
        },
        "id": "vt0VJdZW5VZi",
        "outputId": "7086d2ed-da41-40be-87b1-b75255139fdf"
      },
      "source": [
        "lr = LinearRegression(normalize=True,n_jobs=-1)\r\n",
        "lr.fit(x_train, y_train)\r\n",
        "y_pred_lr = lr.predict(x_test)\r\n",
        "print(r2_score(y_test, y_pred_lr))\r\n",
        "print(mean_squared_error(y_test, y_pred_lr))\r\n",
        "print(mean_squared_error(y_test, y_pred_lr, squared=False))\r\n",
        "print(mean_absolute_error(y_test, y_pred_lr))"
      ],
      "execution_count": 9,
      "outputs": [
        {
          "output_type": "stream",
          "text": [
            "0.6368981103411095\n",
            "95.6353348269099\n",
            "9.779332023554058\n",
            "7.865298605808521\n"
          ],
          "name": "stdout"
        }
      ]
    },
    {
      "cell_type": "markdown",
      "metadata": {
        "id": "IjDOnp696C-T"
      },
      "source": [
        "Модель показывает не хороший результат. Так же нельзя подобрать гиперпараметры чтобы улучшить её."
      ]
    },
    {
      "cell_type": "markdown",
      "metadata": {
        "id": "u9Vmb03TCOJc"
      },
      "source": [
        "## Регрессия дерева решений\r\n",
        "\r\n",
        "Осуществляется с помощью sklearn.tree.DecisionTreeRegressor.\r\n",
        "\r\n",
        "Ссылка на документацию: https://scikit-learn.org/stable/modules/generated/sklearn.tree.DecisionTreeRegressor.html\r\n",
        "\r\n"
      ]
    },
    {
      "cell_type": "code",
      "metadata": {
        "id": "YCF3R6-HCSzp",
        "colab": {
          "base_uri": "https://localhost:8080/"
        },
        "outputId": "c78d7f03-0898-4867-f3d8-4003423829f9"
      },
      "source": [
        "dtr = DecisionTreeRegressor()\r\n",
        "dtr.fit(x_train, y_train)\r\n",
        "y_pred_dtr = dtr.predict(x_test)\r\n",
        "print(r2_score(y_test, y_pred_dtr))\r\n",
        "print(mean_squared_error(y_test, y_pred_dtr))\r\n",
        "print(mean_squared_error(y_test, y_pred_dtr, squared=False))\r\n",
        "print(mean_absolute_error(y_test, y_pred_dtr))"
      ],
      "execution_count": 10,
      "outputs": [
        {
          "output_type": "stream",
          "text": [
            "0.7805046008960914\n",
            "57.81164071051411\n",
            "7.603396656134291\n",
            "4.767819298921417\n"
          ],
          "name": "stdout"
        }
      ]
    },
    {
      "cell_type": "markdown",
      "metadata": {
        "id": "qZ4LZ9nb-mCZ"
      },
      "source": [
        "Дерево решений показало результаты лучше, чем линейнаяы регрессия. Попробуем подобрать гиперпараметры, чтобы улучшить результат.\r\n",
        "\r\n",
        "Воспользуемся sklearn.model_selection.GridSearchCV"
      ]
    },
    {
      "cell_type": "code",
      "metadata": {
        "colab": {
          "base_uri": "https://localhost:8080/"
        },
        "id": "ewLTlZ6e-58W",
        "outputId": "0b9e4f9f-5928-444f-9bb7-b023188f9784"
      },
      "source": [
        "dtr.get_params().keys()"
      ],
      "execution_count": 11,
      "outputs": [
        {
          "output_type": "execute_result",
          "data": {
            "text/plain": [
              "dict_keys(['ccp_alpha', 'criterion', 'max_depth', 'max_features', 'max_leaf_nodes', 'min_impurity_decrease', 'min_impurity_split', 'min_samples_leaf', 'min_samples_split', 'min_weight_fraction_leaf', 'presort', 'random_state', 'splitter'])"
            ]
          },
          "metadata": {
            "tags": []
          },
          "execution_count": 11
        }
      ]
    },
    {
      "cell_type": "code",
      "metadata": {
        "id": "47Ou85IL_Qe4"
      },
      "source": [
        "dtr_parameters_grid = {'criterion' : ['mse', 'friedman_mse', 'mae', 'poisson'],\r\n",
        "                       'splitter' : ['best', 'random'],\r\n",
        "                       'max_depth' : range(1, 11),\r\n",
        "                       'min_samples_split' : range(1, 10) \r\n",
        "}"
      ],
      "execution_count": 12,
      "outputs": []
    },
    {
      "cell_type": "code",
      "metadata": {
        "colab": {
          "base_uri": "https://localhost:8080/"
        },
        "id": "yARG-80ZBSli",
        "outputId": "98b5ddf2-7a20-4008-8977-97dc9a28b886"
      },
      "source": [
        "dtr_grid = GridSearchCV(dtr, dtr_parameters_grid,\r\n",
        "                        cv=5, n_jobs=-1, verbose=True)\r\n",
        "dtr_grid.fit(x_train, y_train)\r\n",
        "dtr_grid.best_params_"
      ],
      "execution_count": 13,
      "outputs": [
        {
          "output_type": "stream",
          "text": [
            "Fitting 5 folds for each of 720 candidates, totalling 3600 fits\n"
          ],
          "name": "stdout"
        },
        {
          "output_type": "stream",
          "text": [
            "[Parallel(n_jobs=-1)]: Using backend LokyBackend with 2 concurrent workers.\n",
            "[Parallel(n_jobs=-1)]: Done 584 tasks      | elapsed:    3.2s\n",
            "[Parallel(n_jobs=-1)]: Done 3600 out of 3600 | elapsed:   19.4s finished\n"
          ],
          "name": "stderr"
        },
        {
          "output_type": "execute_result",
          "data": {
            "text/plain": [
              "{'criterion': 'mse',\n",
              " 'max_depth': 8,\n",
              " 'min_samples_split': 3,\n",
              " 'splitter': 'best'}"
            ]
          },
          "metadata": {
            "tags": []
          },
          "execution_count": 13
        }
      ]
    },
    {
      "cell_type": "code",
      "metadata": {
        "colab": {
          "base_uri": "https://localhost:8080/"
        },
        "id": "Q3lnQyS3Bz_L",
        "outputId": "c65628a7-1086-46bf-8ca1-131b76fb6c76"
      },
      "source": [
        "dtr1 = DecisionTreeRegressor(criterion='mse', max_depth=10, splitter='best',min_samples_split=4)\r\n",
        "dtr1.fit(x_train, y_train)\r\n",
        "y_pred_dtr1 = dtr1.predict(x_test)\r\n",
        "print(r2_score(y_test, y_pred_dtr1))\r\n",
        "print(mean_squared_error(y_test, y_pred_dtr1))\r\n",
        "print(mean_squared_error(y_test, y_pred_dtr1, squared=False))\r\n",
        "print(mean_absolute_error(y_test, y_pred_dtr1))"
      ],
      "execution_count": 14,
      "outputs": [
        {
          "output_type": "stream",
          "text": [
            "0.7924113963744821\n",
            "54.67557779065111\n",
            "7.394293596460118\n",
            "4.833047910945383\n"
          ],
          "name": "stdout"
        }
      ]
    },
    {
      "cell_type": "markdown",
      "metadata": {
        "id": "8O7LYMpIHwhT"
      },
      "source": [
        "Результаты улучшились, но не значительно."
      ]
    },
    {
      "cell_type": "markdown",
      "metadata": {
        "id": "BfRDHtYdIUYl"
      },
      "source": [
        "## LASSO регрессия\r\n",
        "\r\n",
        "Осуществляется с помощью sklearn.linear_model.Lasso.\r\n",
        "\r\n",
        "Ссылка на документацию: https://scikit-learn.org/stable/modules/generated/sklearn.linear_model.Lasso.html"
      ]
    },
    {
      "cell_type": "code",
      "metadata": {
        "colab": {
          "base_uri": "https://localhost:8080/"
        },
        "id": "tc3x5UUjI-8S",
        "outputId": "54773411-a613-4af4-ecff-94a9315f26db"
      },
      "source": [
        "lasso = Lasso()\r\n",
        "lasso.fit(x_train,y_train)\r\n",
        "y_pred_lasso = lasso.predict(x_test)\r\n",
        "print(r2_score(y_test, y_pred_lasso))\r\n",
        "print(mean_squared_error(y_test, y_pred_lasso))\r\n",
        "print(mean_squared_error(y_test, y_pred_lasso, squared=False))\r\n",
        "print(mean_absolute_error(y_test, y_pred_lasso))"
      ],
      "execution_count": 15,
      "outputs": [
        {
          "output_type": "stream",
          "text": [
            "0.6380351738941825\n",
            "95.33585014584763\n",
            "9.7640078935777\n",
            "7.840308993829385\n"
          ],
          "name": "stdout"
        }
      ]
    },
    {
      "cell_type": "markdown",
      "metadata": {
        "id": "NPRVP0l9JsnU"
      },
      "source": [
        "Результаты схожи с линейной регрессией. Попробуем подобрать параметры с помощью GridSearchCV"
      ]
    },
    {
      "cell_type": "code",
      "metadata": {
        "colab": {
          "base_uri": "https://localhost:8080/"
        },
        "id": "ZhaBv8J3KlLq",
        "outputId": "7627032f-67ca-4768-dc57-708c7800018c"
      },
      "source": [
        "lasso.get_params().keys()"
      ],
      "execution_count": 16,
      "outputs": [
        {
          "output_type": "execute_result",
          "data": {
            "text/plain": [
              "dict_keys(['alpha', 'copy_X', 'fit_intercept', 'max_iter', 'normalize', 'positive', 'precompute', 'random_state', 'selection', 'tol', 'warm_start'])"
            ]
          },
          "metadata": {
            "tags": []
          },
          "execution_count": 16
        }
      ]
    },
    {
      "cell_type": "code",
      "metadata": {
        "id": "UPMMoSisKJxu"
      },
      "source": [
        "lasso_parameters_grid = {'alpha' : np.arange(0.01, 1.0, 0.05),\r\n",
        "                         'normalize' : [True, False],\r\n",
        "                         'max_iter' : [10, 50 ,100, 200, 400, 800, 1000, 1500, 2000],\r\n",
        "                         'selection' : ['cyclic', 'random'],\r\n",
        "                         'warm_start':[True,False]\r\n",
        "                         }"
      ],
      "execution_count": 17,
      "outputs": []
    },
    {
      "cell_type": "code",
      "metadata": {
        "colab": {
          "base_uri": "https://localhost:8080/"
        },
        "id": "OhK22vmOLPVM",
        "outputId": "fc4e798f-c74e-484e-dcc4-eeb264706504"
      },
      "source": [
        "lasso_grid = GridSearchCV(lasso, lasso_parameters_grid, cv = 5, n_jobs=-1, verbose=True)\r\n",
        "lasso_grid.fit(x_train, y_train)\r\n",
        "lasso_grid.best_params_"
      ],
      "execution_count": 18,
      "outputs": [
        {
          "output_type": "stream",
          "text": [
            "Fitting 5 folds for each of 1440 candidates, totalling 7200 fits\n"
          ],
          "name": "stdout"
        },
        {
          "output_type": "stream",
          "text": [
            "[Parallel(n_jobs=-1)]: Using backend LokyBackend with 2 concurrent workers.\n",
            "[Parallel(n_jobs=-1)]: Done 956 tasks      | elapsed:    3.4s\n",
            "[Parallel(n_jobs=-1)]: Done 5756 tasks      | elapsed:   18.8s\n",
            "[Parallel(n_jobs=-1)]: Done 7200 out of 7200 | elapsed:   23.3s finished\n",
            "/usr/local/lib/python3.7/dist-packages/sklearn/linear_model/_coordinate_descent.py:476: ConvergenceWarning: Objective did not converge. You might want to increase the number of iterations. Duality gap: 38697.90522166689, tolerance: 23.258623112598066\n",
            "  positive)\n"
          ],
          "name": "stderr"
        },
        {
          "output_type": "execute_result",
          "data": {
            "text/plain": [
              "{'alpha': 0.11,\n",
              " 'max_iter': 100,\n",
              " 'normalize': False,\n",
              " 'selection': 'random',\n",
              " 'warm_start': True}"
            ]
          },
          "metadata": {
            "tags": []
          },
          "execution_count": 18
        }
      ]
    },
    {
      "cell_type": "code",
      "metadata": {
        "colab": {
          "base_uri": "https://localhost:8080/"
        },
        "id": "aFwQDeg6L8xV",
        "outputId": "d421dd76-7e6b-421f-bc27-e9ceab0784f3"
      },
      "source": [
        "lasso1 = Lasso(alpha=0.11, max_iter=100, selection='random')\r\n",
        "lasso1.fit(x_train,y_train)\r\n",
        "y_pred_lasso1 = lasso.predict(x_test)\r\n",
        "print(r2_score(y_test, y_pred_lasso1))\r\n",
        "print(mean_squared_error(y_test, y_pred_lasso1))\r\n",
        "print(mean_squared_error(y_test, y_pred_lasso1, squared=False))\r\n",
        "print(mean_absolute_error(y_test, y_pred_lasso1))"
      ],
      "execution_count": 19,
      "outputs": [
        {
          "output_type": "stream",
          "text": [
            "0.6380351738941825\n",
            "95.33585014584763\n",
            "9.7640078935777\n",
            "7.840308993829385\n"
          ],
          "name": "stdout"
        },
        {
          "output_type": "stream",
          "text": [
            "/usr/local/lib/python3.7/dist-packages/sklearn/linear_model/_coordinate_descent.py:476: ConvergenceWarning: Objective did not converge. You might want to increase the number of iterations. Duality gap: 36146.70116219342, tolerance: 23.258623112598066\n",
            "  positive)\n"
          ],
          "name": "stderr"
        }
      ]
    },
    {
      "cell_type": "markdown",
      "metadata": {
        "id": "bYoZ76ISNGls"
      },
      "source": [
        "После подбора параметров результат никак не изменился."
      ]
    },
    {
      "cell_type": "markdown",
      "metadata": {
        "id": "s49sB3LCNgZR"
      },
      "source": [
        "## Гребневая регрессия\r\n",
        "\r\n",
        "Осуществляется с помощью sklearn.linear_model.Ridge.\r\n",
        "\r\n",
        "Ссылка на документацию: https://scikit-learn.org/stable/modules/generated/sklearn.linear_model.Ridge.html\r\n",
        "\r\n",
        "---\r\n",
        "\r\n"
      ]
    },
    {
      "cell_type": "code",
      "metadata": {
        "colab": {
          "base_uri": "https://localhost:8080/"
        },
        "id": "ajTwJ-p3jkNO",
        "outputId": "425da376-6c28-477d-cbb2-eb1b339ac7c4"
      },
      "source": [
        "ridge = Ridge()\r\n",
        "ridge.fit(x_train_scaled,y_train)\r\n",
        "y_pred_ridge = ridge.predict(x_test_scaled)\r\n",
        "print(r2_score(y_test, y_pred_ridge))\r\n",
        "print(mean_squared_error(y_test, y_pred_ridge))\r\n",
        "print(mean_squared_error(y_test, y_pred_ridge, squared=False))\r\n",
        "print(mean_absolute_error(y_test, y_pred_ridge))"
      ],
      "execution_count": 23,
      "outputs": [
        {
          "output_type": "stream",
          "text": [
            "0.6371483910782557\n",
            "95.5694148116762\n",
            "9.775961068441108\n",
            "7.860731949198349\n"
          ],
          "name": "stdout"
        }
      ]
    },
    {
      "cell_type": "markdown",
      "metadata": {
        "id": "WBs2gkeOlNcz"
      },
      "source": [
        "Результат схож с линейной и lasso регрессией. Подберём параметры по сетке."
      ]
    },
    {
      "cell_type": "code",
      "metadata": {
        "colab": {
          "base_uri": "https://localhost:8080/"
        },
        "id": "dItbffydmAbj",
        "outputId": "a15ff916-af4a-45cf-e85a-3916c5a35119"
      },
      "source": [
        "ridge.get_params().keys()"
      ],
      "execution_count": 37,
      "outputs": [
        {
          "output_type": "execute_result",
          "data": {
            "text/plain": [
              "dict_keys(['alpha', 'copy_X', 'fit_intercept', 'max_iter', 'normalize', 'random_state', 'solver', 'tol'])"
            ]
          },
          "metadata": {
            "tags": []
          },
          "execution_count": 37
        }
      ]
    },
    {
      "cell_type": "code",
      "metadata": {
        "id": "Ye1T0JD7lfMP"
      },
      "source": [
        "ridge_parameters_grid = {'alpha' : np.arange(0.01, 1.0, 0.05),\r\n",
        "                         'max_iter' : [10, 50 ,100, 200, 400, 800, 1000, 1500, 2000],\r\n",
        "                         'solver' : ['auto', 'svd', 'cholesky', 'lsqr', 'sparse_cg', 'sag', 'saga'],\r\n",
        "                         'fit_intercept' : [True, False]\r\n",
        "                         }"
      ],
      "execution_count": 26,
      "outputs": []
    },
    {
      "cell_type": "code",
      "metadata": {
        "colab": {
          "base_uri": "https://localhost:8080/"
        },
        "id": "2kZ94UODmCGF",
        "outputId": "0ce614cb-63bf-4202-e5d7-6fea94801975"
      },
      "source": [
        "ridge_grid = GridSearchCV(ridge, ridge_parameters_grid, cv = 5, n_jobs=-1, verbose=True)\r\n",
        "ridge_grid.fit(x_train_scaled, y_train)\r\n",
        "ridge_grid.best_params_"
      ],
      "execution_count": 27,
      "outputs": [
        {
          "output_type": "stream",
          "text": [
            "Fitting 5 folds for each of 2520 candidates, totalling 12600 fits\n"
          ],
          "name": "stdout"
        },
        {
          "output_type": "stream",
          "text": [
            "[Parallel(n_jobs=-1)]: Using backend LokyBackend with 2 concurrent workers.\n",
            "[Parallel(n_jobs=-1)]: Done 904 tasks      | elapsed:    3.0s\n",
            "[Parallel(n_jobs=-1)]: Done 10504 tasks      | elapsed:   21.9s\n",
            "[Parallel(n_jobs=-1)]: Done 12600 out of 12600 | elapsed:   25.9s finished\n",
            "/usr/local/lib/python3.7/dist-packages/sklearn/linear_model/_sag.py:330: ConvergenceWarning: The max_iter was reached which means the coef_ did not converge\n",
            "  \"the coef_ did not converge\", ConvergenceWarning)\n"
          ],
          "name": "stderr"
        },
        {
          "output_type": "execute_result",
          "data": {
            "text/plain": [
              "{'alpha': 0.21000000000000002,\n",
              " 'fit_intercept': True,\n",
              " 'max_iter': 10,\n",
              " 'solver': 'sag'}"
            ]
          },
          "metadata": {
            "tags": []
          },
          "execution_count": 27
        }
      ]
    },
    {
      "cell_type": "code",
      "metadata": {
        "colab": {
          "base_uri": "https://localhost:8080/"
        },
        "id": "aO7e6FhHl24F",
        "outputId": "90268e63-ca6f-4d27-cb01-aa6847c32c9c"
      },
      "source": [
        "ridge1 = Ridge(alpha=0.21, max_iter=10,solver='sag')\r\n",
        "ridge1.fit(x_train_scaled,y_train)\r\n",
        "y_pred_ridge1 = ridge1.predict(x_test_scaled)\r\n",
        "print(r2_score(y_test, y_pred_ridge1))\r\n",
        "print(mean_squared_error(y_test, y_pred_ridge1))\r\n",
        "print(mean_squared_error(y_test, y_pred_ridge1, squared=False))\r\n",
        "print(mean_absolute_error(y_test, y_pred_ridge1))"
      ],
      "execution_count": 28,
      "outputs": [
        {
          "output_type": "stream",
          "text": [
            "0.6387008938761193\n",
            "95.16050995846027\n",
            "9.755024856885823\n",
            "7.835917148959343\n"
          ],
          "name": "stdout"
        },
        {
          "output_type": "stream",
          "text": [
            "/usr/local/lib/python3.7/dist-packages/sklearn/linear_model/_sag.py:330: ConvergenceWarning: The max_iter was reached which means the coef_ did not converge\n",
            "  \"the coef_ did not converge\", ConvergenceWarning)\n"
          ],
          "name": "stderr"
        }
      ]
    },
    {
      "cell_type": "markdown",
      "metadata": {
        "id": "vNTol-Kcmz5-"
      },
      "source": [
        "Результат незначительно вырос."
      ]
    },
    {
      "cell_type": "markdown",
      "metadata": {
        "id": "nMlUv_fZpQrb"
      },
      "source": [
        "## Elastic Net регрессия\r\n",
        "\r\n",
        "Осуществляется с помощью sklearn.linear_model.ElasticNet\r\n",
        "\r\n",
        "Ссылка на документацию: https://scikit-learn.org/stable/modules/generated/sklearn.linear_model.ElasticNet.html"
      ]
    },
    {
      "cell_type": "code",
      "metadata": {
        "colab": {
          "base_uri": "https://localhost:8080/"
        },
        "id": "NKa-GupQpQD5",
        "outputId": "fe875bb1-4454-4b32-ace6-60d00e726272"
      },
      "source": [
        "en = ElasticNet()\r\n",
        "en.fit(x_train, y_train)\r\n",
        "y_pred_en = en.predict(x_test)\r\n",
        "print(r2_score(y_test, y_pred_en))\r\n",
        "print(mean_squared_error(y_test, y_pred_en))\r\n",
        "print(mean_squared_error(y_test, y_pred_en, squared=False))\r\n",
        "print(mean_absolute_error(y_test, y_pred_en))"
      ],
      "execution_count": 34,
      "outputs": [
        {
          "output_type": "stream",
          "text": [
            "0.6376299559291188\n",
            "95.44257819345746\n",
            "9.769471745875386\n",
            "7.8500087161825975\n"
          ],
          "name": "stdout"
        }
      ]
    },
    {
      "cell_type": "markdown",
      "metadata": {
        "id": "_9Gpt-EbqhV_"
      },
      "source": [
        "Elastic Net регрессия выдаёт не лучший результат. Попробуем улучшить, подбирая параметры."
      ]
    },
    {
      "cell_type": "code",
      "metadata": {
        "colab": {
          "base_uri": "https://localhost:8080/"
        },
        "id": "NTJ7q5blqv44",
        "outputId": "3584d1bf-31b9-4937-cc28-2dbf983a80ab"
      },
      "source": [
        "en.get_params().keys()"
      ],
      "execution_count": 36,
      "outputs": [
        {
          "output_type": "execute_result",
          "data": {
            "text/plain": [
              "dict_keys(['alpha', 'copy_X', 'fit_intercept', 'l1_ratio', 'max_iter', 'normalize', 'positive', 'precompute', 'random_state', 'selection', 'tol', 'warm_start'])"
            ]
          },
          "metadata": {
            "tags": []
          },
          "execution_count": 36
        }
      ]
    },
    {
      "cell_type": "code",
      "metadata": {
        "id": "UwORIVnLq0Zm"
      },
      "source": [
        "en_parameters_grid = {'alpha' : np.arange(0.01, 1.0, 0.05),\r\n",
        "                         'l1_ratio' : np.arange(0.1, 1.0, 0.1),\r\n",
        "                         'max_iter' : [10, 50 ,100, 200, 400, 800, 1000],\r\n",
        "                         'fit_intercept' : [True, False],\r\n",
        "                         'normalize' : [True, False],\r\n",
        "                         'selection' : ['cyclic', 'random'],\r\n",
        "                         }"
      ],
      "execution_count": 40,
      "outputs": []
    },
    {
      "cell_type": "code",
      "metadata": {
        "colab": {
          "base_uri": "https://localhost:8080/"
        },
        "id": "ZEXkRVejr8sP",
        "outputId": "98ae5a27-d77e-4d12-b026-17fc4ff8b9af"
      },
      "source": [
        "en_grid = GridSearchCV(en, en_parameters_grid, cv = 5, n_jobs=-1, verbose=True)\r\n",
        "en_grid.fit(x_train, y_train)\r\n",
        "en_grid.best_params_"
      ],
      "execution_count": 41,
      "outputs": [
        {
          "output_type": "stream",
          "text": [
            "Fitting 5 folds for each of 10080 candidates, totalling 50400 fits\n"
          ],
          "name": "stdout"
        },
        {
          "output_type": "stream",
          "text": [
            "[Parallel(n_jobs=-1)]: Using backend LokyBackend with 2 concurrent workers.\n",
            "[Parallel(n_jobs=-1)]: Done 584 tasks      | elapsed:    3.2s\n",
            "[Parallel(n_jobs=-1)]: Done 5384 tasks      | elapsed:   21.3s\n",
            "[Parallel(n_jobs=-1)]: Done 13384 tasks      | elapsed:   50.6s\n",
            "[Parallel(n_jobs=-1)]: Done 24584 tasks      | elapsed:  1.5min\n",
            "[Parallel(n_jobs=-1)]: Done 38984 tasks      | elapsed:  2.4min\n",
            "[Parallel(n_jobs=-1)]: Done 50400 out of 50400 | elapsed:  3.0min finished\n",
            "/usr/local/lib/python3.7/dist-packages/sklearn/linear_model/_coordinate_descent.py:476: ConvergenceWarning: Objective did not converge. You might want to increase the number of iterations. Duality gap: 45134.159934432566, tolerance: 130.6472477067676\n",
            "  positive)\n"
          ],
          "name": "stderr"
        },
        {
          "output_type": "execute_result",
          "data": {
            "text/plain": [
              "{'alpha': 0.51,\n",
              " 'fit_intercept': False,\n",
              " 'l1_ratio': 0.5,\n",
              " 'max_iter': 200,\n",
              " 'normalize': True,\n",
              " 'selection': 'random'}"
            ]
          },
          "metadata": {
            "tags": []
          },
          "execution_count": 41
        }
      ]
    },
    {
      "cell_type": "code",
      "metadata": {
        "colab": {
          "base_uri": "https://localhost:8080/"
        },
        "id": "Mec--WeXry1N",
        "outputId": "e416d7e1-8015-49e8-9a2f-4f4f76e038ed"
      },
      "source": [
        "en1 = ElasticNet(alpha=0.51, fit_intercept=False, max_iter=200, normalize=True,selection='random')\r\n",
        "en1.fit(x_train, y_train)\r\n",
        "y_pred_en1 = en1.predict(x_test)\r\n",
        "print(r2_score(y_test, y_pred_en1))\r\n",
        "print(mean_squared_error(y_test, y_pred_en1))\r\n",
        "print(mean_squared_error(y_test, y_pred_en1, squared=False))\r\n",
        "print(mean_absolute_error(y_test, y_pred_en1))"
      ],
      "execution_count": 42,
      "outputs": [
        {
          "output_type": "stream",
          "text": [
            "0.640174419015117\n",
            "94.77240658015975\n",
            "9.735112047642788\n",
            "7.810144988182405\n"
          ],
          "name": "stdout"
        },
        {
          "output_type": "stream",
          "text": [
            "/usr/local/lib/python3.7/dist-packages/sklearn/linear_model/_coordinate_descent.py:476: ConvergenceWarning: Objective did not converge. You might want to increase the number of iterations. Duality gap: 45016.84976761267, tolerance: 130.6472477067676\n",
            "  positive)\n"
          ],
          "name": "stderr"
        }
      ]
    },
    {
      "cell_type": "markdown",
      "metadata": {
        "id": "_tr98KwvtRCa"
      },
      "source": [
        "С подобранными параметрами результат немного улучшился, но подбор был слишком долгим."
      ]
    },
    {
      "cell_type": "markdown",
      "metadata": {
        "id": "yCpYCEEPnEb2"
      },
      "source": [
        "Из всех алгоритмов регрессии, регрессия дерева решений лучше всего показала себя на данном датасете."
      ]
    }
  ]
}